{
 "cells": [
  {
   "cell_type": "markdown",
   "id": "3dec88eb",
   "metadata": {},
   "source": [
    "# Creating & Analyzing Equity Portfolios (with rebalancing)"
   ]
  },
  {
   "cell_type": "markdown",
   "id": "c833d1fa",
   "metadata": {},
   "source": [
    "## Getting started"
   ]
  },
  {
   "cell_type": "code",
   "execution_count": null,
   "id": "dcc56de6",
   "metadata": {},
   "outputs": [],
   "source": [
    "import pandas as pd\n",
    "import numpy as np\n",
    "import matplotlib.pyplot as plt\n",
    "plt.style.use(\"seaborn-v0_8\")"
   ]
  },
  {
   "cell_type": "code",
   "execution_count": null,
   "id": "68d34ec2",
   "metadata": {},
   "outputs": [],
   "source": [
    "prices = pd.read_csv(\"stocks.csv\", index_col = \"Date\", parse_dates = [\"Date\"])\n",
    "prices"
   ]
  },
  {
   "cell_type": "code",
   "execution_count": null,
   "id": "7d8fe524",
   "metadata": {},
   "outputs": [],
   "source": [
    "returns = prices.pct_change().dropna() \n",
    "returns"
   ]
  },
  {
   "cell_type": "code",
   "execution_count": null,
   "id": "4c2cfa79",
   "metadata": {},
   "outputs": [],
   "source": [
    "returns.info()"
   ]
  },
  {
   "cell_type": "code",
   "execution_count": null,
   "id": "88183776",
   "metadata": {},
   "outputs": [],
   "source": [
    "def ann_risk_return(returns_df): # assumes simple returns as input\n",
    "    summary = pd.DataFrame(index = returns_df.columns)\n",
    "    summary[\"ann. Risk\"] = returns_df.std() * np.sqrt(252)\n",
    "    log_returns = np.log(returns_df + 1)\n",
    "    summary[\"CAGR\"] = np.exp(log_returns.mean() * 252) - 1\n",
    "    return summary"
   ]
  },
  {
   "cell_type": "code",
   "execution_count": null,
   "id": "2cd02c8b",
   "metadata": {},
   "outputs": [],
   "source": [
    "summary = ann_risk_return(returns.iloc[1:])\n",
    "summary"
   ]
  },
  {
   "cell_type": "code",
   "execution_count": null,
   "id": "1c59690c",
   "metadata": {},
   "outputs": [],
   "source": []
  },
  {
   "cell_type": "markdown",
   "id": "ac5e4d65",
   "metadata": {},
   "source": [
    "## Creating Random Portfolios (Part 1)"
   ]
  },
  {
   "cell_type": "code",
   "execution_count": null,
   "id": "bba88209",
   "metadata": {},
   "outputs": [],
   "source": [
    "noa = len(returns.columns) # number of assets\n",
    "noa"
   ]
  },
  {
   "cell_type": "code",
   "execution_count": null,
   "id": "fb48ba70",
   "metadata": {},
   "outputs": [],
   "source": [
    "nop = 10000 # number of random portfolios\n",
    "nop"
   ]
  },
  {
   "cell_type": "code",
   "execution_count": null,
   "id": "303842ff",
   "metadata": {},
   "outputs": [],
   "source": [
    "# 80,000 random floats between 0 and 1\n",
    "np.random.seed(123)\n",
    "matrix = np.random.random(noa * nop).reshape(nop, noa)"
   ]
  },
  {
   "cell_type": "code",
   "execution_count": null,
   "id": "1c90ff7b",
   "metadata": {},
   "outputs": [],
   "source": [
    "matrix"
   ]
  },
  {
   "cell_type": "code",
   "execution_count": null,
   "id": "6adedb04",
   "metadata": {},
   "outputs": [],
   "source": [
    "matrix.shape"
   ]
  },
  {
   "cell_type": "code",
   "execution_count": null,
   "id": "2ff10bc5",
   "metadata": {},
   "outputs": [],
   "source": [
    "matrix.sum(axis = 1, keepdims= True)"
   ]
  },
  {
   "cell_type": "code",
   "execution_count": null,
   "id": "01d5efb0",
   "metadata": {},
   "outputs": [],
   "source": [
    "weights = matrix / matrix.sum(axis = 1, keepdims= True) # make portfolio weights summing up to 1\n",
    "weights"
   ]
  },
  {
   "cell_type": "code",
   "execution_count": null,
   "id": "bddd31f3",
   "metadata": {},
   "outputs": [],
   "source": [
    "weights.sum(axis = 1, keepdims= True)"
   ]
  },
  {
   "cell_type": "markdown",
   "id": "19f9b479",
   "metadata": {},
   "source": [
    "__one Portfolio__"
   ]
  },
  {
   "cell_type": "code",
   "execution_count": null,
   "id": "86d2f374",
   "metadata": {},
   "outputs": [],
   "source": [
    "w1 = weights[0]\n",
    "w1"
   ]
  },
  {
   "cell_type": "markdown",
   "id": "0ec31946",
   "metadata": {},
   "source": [
    "__Daily rebalancing of weights.__"
   ]
  },
  {
   "cell_type": "code",
   "execution_count": null,
   "id": "6b7761b1",
   "metadata": {},
   "outputs": [],
   "source": [
    "returns.mul(w1).sum(axis = 1) # weighted average simple returns over time"
   ]
  },
  {
   "cell_type": "code",
   "execution_count": null,
   "id": "fd885c05",
   "metadata": {},
   "outputs": [],
   "source": [
    "port1 = returns.dot(w1) # dot product\n",
    "port1"
   ]
  },
  {
   "cell_type": "markdown",
   "id": "887a952b",
   "metadata": {},
   "source": [
    "-> __Active rebalancing__! __Weights restored__ to initial/target weights at the end of each day. <br>\n",
    "-> selling daily winners and buying daily losers. (__Contrarian Trading Strategy__)\n"
   ]
  },
  {
   "cell_type": "code",
   "execution_count": null,
   "id": "d415901b",
   "metadata": {},
   "outputs": [],
   "source": [
    "ann_risk_return(port1.to_frame())"
   ]
  },
  {
   "cell_type": "code",
   "execution_count": null,
   "id": "46c72149",
   "metadata": {},
   "outputs": [],
   "source": []
  },
  {
   "cell_type": "markdown",
   "id": "c2537de6",
   "metadata": {},
   "source": [
    "## Creating Random Portfolios (Part 2)"
   ]
  },
  {
   "cell_type": "markdown",
   "id": "28ac759e",
   "metadata": {},
   "source": [
    "__many Portfolios__"
   ]
  },
  {
   "cell_type": "code",
   "execution_count": null,
   "id": "0649b723",
   "metadata": {},
   "outputs": [],
   "source": [
    "weights"
   ]
  },
  {
   "cell_type": "code",
   "execution_count": null,
   "id": "86f6c44e",
   "metadata": {},
   "outputs": [],
   "source": [
    "port_ret= returns.dot(weights.T)\n",
    "port_ret # weighted average simple returns for 10,000 portfolios"
   ]
  },
  {
   "cell_type": "code",
   "execution_count": null,
   "id": "dfd2644f",
   "metadata": {},
   "outputs": [],
   "source": [
    "port_summary = ann_risk_return(port_ret)\n",
    "port_summary"
   ]
  },
  {
   "cell_type": "code",
   "execution_count": null,
   "id": "9626d4c9",
   "metadata": {},
   "outputs": [],
   "source": [
    "summary"
   ]
  },
  {
   "cell_type": "code",
   "execution_count": null,
   "id": "1acfab74",
   "metadata": {},
   "outputs": [],
   "source": [
    "plt.figure(figsize = (15, 9))\n",
    "plt.scatter(port_summary.loc[:, \"ann. Risk\"], port_summary.loc[:, \"CAGR\"],s= 20, color = \"red\")\n",
    "plt.scatter(summary.loc[:, \"ann. Risk\"], summary.loc[:, \"CAGR\"], s= 50, color = \"black\", marker = \"D\")\n",
    "for i in summary.index:\n",
    "    plt.annotate(i, xy=(summary.loc[i, \"ann. Risk\"]+0.01, summary.loc[i, \"CAGR\"]+0.01), size = 15)\n",
    "plt.xlabel(\"ann. Risk (std)\", fontsize = 15)\n",
    "plt.ylabel(\"CAGR\", fontsize = 15)\n",
    "plt.title(\"Risk/Return\", fontsize = 20)\n",
    "plt.show()"
   ]
  },
  {
   "cell_type": "code",
   "execution_count": null,
   "id": "04fa4899",
   "metadata": {},
   "outputs": [],
   "source": []
  },
  {
   "cell_type": "markdown",
   "id": "43e8584b",
   "metadata": {},
   "source": [
    "## Performance Measurement: Risk-adjusted Return"
   ]
  },
  {
   "cell_type": "markdown",
   "id": "8f3dcd53",
   "metadata": {},
   "source": [
    "__Risk-adjusted-Return (RaR): CAGR per unit of Risk. (similar to Sharpe Ratio)__"
   ]
  },
  {
   "cell_type": "code",
   "execution_count": null,
   "id": "96508313",
   "metadata": {},
   "outputs": [],
   "source": [
    "summary[\"RaR\"] = summary[\"CAGR\"].div(summary[\"ann. Risk\"])\n",
    "summary"
   ]
  },
  {
   "cell_type": "code",
   "execution_count": null,
   "id": "7123acbe",
   "metadata": {},
   "outputs": [],
   "source": [
    "port_summary[\"RaR\"] = port_summary[\"CAGR\"].div(port_summary[\"ann. Risk\"])"
   ]
  },
  {
   "cell_type": "code",
   "execution_count": null,
   "id": "a0f1f54b",
   "metadata": {
    "scrolled": true
   },
   "outputs": [],
   "source": [
    "port_summary.sort_values(\"RaR\")"
   ]
  },
  {
   "cell_type": "code",
   "execution_count": null,
   "id": "de196d1f",
   "metadata": {},
   "outputs": [],
   "source": [
    "vmin = port_summary.RaR.min()\n",
    "vmin"
   ]
  },
  {
   "cell_type": "code",
   "execution_count": null,
   "id": "aa50d75b",
   "metadata": {},
   "outputs": [],
   "source": [
    "vmax = port_summary.RaR.max()\n",
    "vmax"
   ]
  },
  {
   "cell_type": "code",
   "execution_count": null,
   "id": "4e78ea87",
   "metadata": {},
   "outputs": [],
   "source": [
    "plt.figure(figsize = (15, 8))\n",
    "plt.scatter(port_summary.loc[:, \"ann. Risk\"], port_summary.loc[:, \"CAGR\"], s= 20, \n",
    "            c = port_summary.loc[:, \"RaR\"], cmap = \"coolwarm\", vmin = vmin, vmax = vmax, alpha = 0.66)\n",
    "plt.colorbar()\n",
    "plt.scatter(summary.loc[:, \"ann. Risk\"], summary.loc[:, \"CAGR\"],s= 50, marker = \"D\", c = \"black\")\n",
    "for i in summary.index:\n",
    "    plt.annotate(i, xy=(summary.loc[i, \"ann. Risk\"]+0.01, summary.loc[i, \"CAGR\"]+0.01), size = 15)\n",
    "plt.xlabel(\"ann. Risk (std)\", fontsize = 15)\n",
    "plt.ylabel(\"CAGR\", fontsize = 15)\n",
    "plt.title(\"Risk-adjusted Return\", fontsize = 20)\n",
    "plt.show()"
   ]
  },
  {
   "cell_type": "code",
   "execution_count": null,
   "id": "87046090",
   "metadata": {},
   "outputs": [],
   "source": []
  },
  {
   "cell_type": "markdown",
   "id": "471cd147",
   "metadata": {},
   "source": [
    "## Portfolio Optimization"
   ]
  },
  {
   "cell_type": "markdown",
   "id": "7af64c71",
   "metadata": {},
   "source": [
    "__Note: We are optimizing the past here (backward looking)!__"
   ]
  },
  {
   "cell_type": "code",
   "execution_count": null,
   "id": "d763723a",
   "metadata": {},
   "outputs": [],
   "source": [
    "import scipy.optimize as sco\n",
    "pd.options.display.float_format = '{:.4f}'.format\n",
    "np.set_printoptions(suppress = True)"
   ]
  },
  {
   "cell_type": "code",
   "execution_count": null,
   "id": "7d1ffb02",
   "metadata": {},
   "outputs": [],
   "source": [
    "returns "
   ]
  },
  {
   "cell_type": "code",
   "execution_count": null,
   "id": "1fee61e4",
   "metadata": {},
   "outputs": [],
   "source": [
    "#calculate portfolio CAGR (based on weights)\n",
    "def port_ret(weights):\n",
    "    simple_ret = returns.dot(weights.T)\n",
    "    log_returns = np.log(simple_ret + 1)\n",
    "    cagr = np.exp(log_returns.mean() * 252) - 1\n",
    "    return cagr"
   ]
  },
  {
   "cell_type": "code",
   "execution_count": null,
   "id": "bf327913",
   "metadata": {},
   "outputs": [],
   "source": [
    "#calculate annualized portfolio volatility (based on weights)\n",
    "def port_vol(weights):\n",
    "    simple_ret = returns.dot(weights.T)\n",
    "    return simple_ret.std() * np.sqrt(252)"
   ]
  },
  {
   "cell_type": "code",
   "execution_count": null,
   "id": "43913eb3",
   "metadata": {},
   "outputs": [],
   "source": [
    "#define function to be minimized (sco only supports minimize, not maximize)\n",
    "#-> maximize RaR == minimize RaR * (-1)\n",
    "def min_func_RaR(weights): \n",
    "     return -(port_ret(weights)) / port_vol(weights) #Risk-adjusted Return * (-1)"
   ]
  },
  {
   "cell_type": "code",
   "execution_count": null,
   "id": "70be4a51",
   "metadata": {},
   "outputs": [],
   "source": [
    "#number of assets\n",
    "noa = len(returns.columns)\n",
    "noa"
   ]
  },
  {
   "cell_type": "code",
   "execution_count": null,
   "id": "6626b185",
   "metadata": {},
   "outputs": [],
   "source": [
    "#equal weights (starting point of optimization)\n",
    "eweigths = np.full(noa, 1/noa)\n",
    "eweigths"
   ]
  },
  {
   "cell_type": "code",
   "execution_count": null,
   "id": "062303e5",
   "metadata": {},
   "outputs": [],
   "source": [
    "#constraint: weights must sum up to 1 -> sum of weights - 1 = 0\n",
    "cons = ({\"type\": \"eq\", \"fun\": lambda x: np.sum(x) - 1})"
   ]
  },
  {
   "cell_type": "code",
   "execution_count": null,
   "id": "10028f35",
   "metadata": {},
   "outputs": [],
   "source": [
    "#bounds: all weights shall be between 0 and 1 -> can be changed\n",
    "bnds =  tuple((0, 1) for x in range(noa))\n",
    "bnds"
   ]
  },
  {
   "cell_type": "code",
   "execution_count": null,
   "id": "f78b75ef",
   "metadata": {},
   "outputs": [],
   "source": [
    "#run optimization based on function to be minimized, starting with equal weights and based on respective bounds and constraints\n",
    "opts = sco.minimize(min_func_RaR, eweigths, method = \"SLSQP\", bounds = bnds, constraints= cons)"
   ]
  },
  {
   "cell_type": "code",
   "execution_count": null,
   "id": "d04599ba",
   "metadata": {},
   "outputs": [],
   "source": [
    "#output of optimization\n",
    "opts"
   ]
  },
  {
   "cell_type": "code",
   "execution_count": null,
   "id": "ec2c9604",
   "metadata": {
    "scrolled": true
   },
   "outputs": [],
   "source": [
    "#getting the optimal weights\n",
    "optimal_weights = opts[\"x\"]\n",
    "optimal_weights"
   ]
  },
  {
   "cell_type": "code",
   "execution_count": null,
   "id": "94a271c3",
   "metadata": {
    "scrolled": true
   },
   "outputs": [],
   "source": [
    "pd.Series(data = optimal_weights, index = returns.columns).sort_values(ascending = False).head(20)"
   ]
  },
  {
   "cell_type": "markdown",
   "id": "0de751e0",
   "metadata": {},
   "source": [
    "-> __Optimization (without bounds) does not necessarily lead to practical/factual diversification.__"
   ]
  },
  {
   "cell_type": "code",
   "execution_count": null,
   "id": "d3cae57b",
   "metadata": {},
   "outputs": [],
   "source": [
    "#cagr of the optimal portfolio\n",
    "cagr_opt = port_ret(optimal_weights)\n",
    "cagr_opt"
   ]
  },
  {
   "cell_type": "code",
   "execution_count": null,
   "id": "139c06bb",
   "metadata": {},
   "outputs": [],
   "source": [
    "#volatility of the optimal portfolio\n",
    "vol_opt = port_vol(optimal_weights)\n",
    "vol_opt"
   ]
  },
  {
   "cell_type": "code",
   "execution_count": null,
   "id": "efe127cd",
   "metadata": {},
   "outputs": [],
   "source": [
    "#RaR of the optimal portfolio\n",
    "RaR_opt = -min_func_RaR(optimal_weights)\n",
    "RaR_opt"
   ]
  },
  {
   "cell_type": "code",
   "execution_count": null,
   "id": "a6ac631c",
   "metadata": {},
   "outputs": [],
   "source": [
    "plt.figure(figsize = (15, 8))\n",
    "plt.scatter(port_summary.loc[:, \"ann. Risk\"], port_summary.loc[:, \"CAGR\"], s= 20, \n",
    "            c = port_summary.loc[:, \"RaR\"], cmap = \"coolwarm\", vmin = vmin, vmax = vmax, alpha = 0.66)\n",
    "plt.colorbar()\n",
    "plt.scatter(summary.loc[:, \"ann. Risk\"], summary.loc[:, \"CAGR\"],s= 50, marker = \"D\", c = \"black\")\n",
    "for i in summary.index:\n",
    "    plt.annotate(i, xy=(summary.loc[i, \"ann. Risk\"]+0.01, summary.loc[i, \"CAGR\"]+0.01), size = 15)\n",
    "plt.scatter(x = vol_opt, y = cagr_opt, s = 100, marker = \"X\", c = \"purple\") # best Portfolio\n",
    "plt.xlabel(\"ann. Risk (std)\", fontsize = 15)\n",
    "plt.ylabel(\"CAGR\", fontsize = 15)\n",
    "plt.title(\"The optimal Portfolio\", fontsize = 20)\n",
    "plt.show()"
   ]
  },
  {
   "cell_type": "markdown",
   "id": "9433b8c6",
   "metadata": {},
   "source": [
    "__Reminder: We are optimizing the past here (backward looking).__ <br>\n",
    "-> Very unlikely we had selected this optimal portfolio back in 2017 (__look ahead bias__)! <br>\n",
    "-> Very unlikely this will be the optimal portfolio in the future (__past performance is not a good indicator for future performance__)!"
   ]
  },
  {
   "cell_type": "code",
   "execution_count": null,
   "id": "564f0a6f",
   "metadata": {},
   "outputs": [],
   "source": []
  },
  {
   "cell_type": "markdown",
   "id": "d2fdf2c7",
   "metadata": {},
   "source": [
    "## Minimum Variance Portfolio"
   ]
  },
  {
   "cell_type": "markdown",
   "id": "c532f27c",
   "metadata": {},
   "source": [
    "(use code above with following replacements:)"
   ]
  },
  {
   "cell_type": "code",
   "execution_count": null,
   "id": "b16983fb",
   "metadata": {},
   "outputs": [],
   "source": [
    "# Minimum Variance Portfolio\n",
    "opts = sco.minimize(port_vol, eweigths, method = \"SLSQP\", bounds = bnds, constraints= cons)"
   ]
  },
  {
   "cell_type": "code",
   "execution_count": null,
   "id": "49058412",
   "metadata": {},
   "outputs": [],
   "source": []
  },
  {
   "cell_type": "markdown",
   "id": "db3d6539",
   "metadata": {},
   "source": [
    "## Maximum Return Portfolio"
   ]
  },
  {
   "cell_type": "markdown",
   "id": "ebae188d",
   "metadata": {},
   "source": [
    "(use code above with following replacements:)"
   ]
  },
  {
   "cell_type": "code",
   "execution_count": null,
   "id": "62e426c2",
   "metadata": {},
   "outputs": [],
   "source": [
    "#calculate portfolio CAGR (based on weights)\n",
    "def port_ret(weights):\n",
    "    simple_ret = returns.dot(weights.T)\n",
    "    log_returns = np.log(simple_ret + 1)\n",
    "    cagr = np.exp(log_returns.mean() * 252) - 1\n",
    "    return cagr * (-1)"
   ]
  },
  {
   "cell_type": "code",
   "execution_count": null,
   "id": "10ba18a3",
   "metadata": {},
   "outputs": [],
   "source": [
    "# Maximum Return Portfolio\n",
    "opts = sco.minimize(port_ret, eweigths, method = \"SLSQP\", bounds = bnds, constraints= cons)"
   ]
  },
  {
   "cell_type": "code",
   "execution_count": null,
   "id": "4e7a9e55",
   "metadata": {},
   "outputs": [],
   "source": [
    "#cagr of the optimal portfolio\n",
    "cagr_opt = -port_ret(optimal_weights)\n",
    "cagr_opt"
   ]
  },
  {
   "cell_type": "code",
   "execution_count": null,
   "id": "f4d15804",
   "metadata": {},
   "outputs": [],
   "source": []
  },
  {
   "cell_type": "markdown",
   "id": "13cfbafd",
   "metadata": {},
   "source": [
    "## The Efficient Frontier"
   ]
  },
  {
   "cell_type": "markdown",
   "id": "e9fc6178",
   "metadata": {},
   "source": [
    "__Idea: Find for each return level the portfolio with the lowest volatility.__"
   ]
  },
  {
   "cell_type": "code",
   "execution_count": null,
   "id": "b3998328",
   "metadata": {},
   "outputs": [],
   "source": [
    "returns"
   ]
  },
  {
   "cell_type": "code",
   "execution_count": null,
   "id": "b338367b",
   "metadata": {},
   "outputs": [],
   "source": [
    "summary"
   ]
  },
  {
   "cell_type": "code",
   "execution_count": null,
   "id": "b085489d",
   "metadata": {},
   "outputs": [],
   "source": [
    "#calculate portfolio CAGR (based on weights)\n",
    "def port_ret(weights):\n",
    "    simple_ret = returns.dot(weights.T).iloc[1:]\n",
    "    log_returns = np.log(simple_ret + 1)\n",
    "    cagr = np.exp(log_returns.mean() * 252) - 1\n",
    "    return cagr"
   ]
  },
  {
   "cell_type": "code",
   "execution_count": null,
   "id": "0ba9b074",
   "metadata": {},
   "outputs": [],
   "source": [
    "#calculate annualized portfolio volatility (based on weights)\n",
    "def port_vol(weights):\n",
    "    simple_ret = returns.dot(weights.T).iloc[1:]\n",
    "    return simple_ret.std() * np.sqrt(252)"
   ]
  },
  {
   "cell_type": "code",
   "execution_count": null,
   "id": "e418ca1a",
   "metadata": {},
   "outputs": [],
   "source": [
    "noa = len(returns.columns)\n",
    "noa"
   ]
  },
  {
   "cell_type": "code",
   "execution_count": null,
   "id": "7c6ed7e8",
   "metadata": {},
   "outputs": [],
   "source": [
    "#equal weights (starting point of optimization)\n",
    "eweigths = np.full(noa, 1/noa)\n",
    "eweigths"
   ]
  },
  {
   "cell_type": "code",
   "execution_count": null,
   "id": "8c662a4d",
   "metadata": {},
   "outputs": [],
   "source": [
    "tcagrs = np.linspace(summary.CAGR.min(), summary.CAGR.max(), 100)\n",
    "tcagrs # evenly spaced target returns between min and max"
   ]
  },
  {
   "cell_type": "code",
   "execution_count": null,
   "id": "b633c861",
   "metadata": {},
   "outputs": [],
   "source": [
    "# portfolio return == tcagr\n",
    "cons = ({\"type\": \"eq\", \"fun\": lambda x: port_ret(x) - tcagr},\n",
    "       {\"type\": \"eq\", \"fun\": lambda x: np.sum(x) - 1})"
   ]
  },
  {
   "cell_type": "code",
   "execution_count": null,
   "id": "1359cee6",
   "metadata": {},
   "outputs": [],
   "source": [
    "bnds =  tuple((0, 1) for x in range(noa))\n",
    "bnds"
   ]
  },
  {
   "cell_type": "code",
   "execution_count": null,
   "id": "a3104d69",
   "metadata": {},
   "outputs": [],
   "source": [
    "vols = []"
   ]
  },
  {
   "cell_type": "code",
   "execution_count": null,
   "id": "eb2bdb9d",
   "metadata": {},
   "outputs": [],
   "source": [
    "#for each target return, find the portfolio with the lowest volatility\n",
    "for tcagr in tcagrs:\n",
    "    res = sco.minimize(port_vol, eweigths, method = \"SLSQP\", bounds = bnds, constraints = cons)\n",
    "    vols.append(res[\"fun\"])\n",
    "vols = np.array(vols)"
   ]
  },
  {
   "cell_type": "code",
   "execution_count": null,
   "id": "03ad5330",
   "metadata": {},
   "outputs": [],
   "source": [
    "vols"
   ]
  },
  {
   "cell_type": "code",
   "execution_count": null,
   "id": "39ad63eb",
   "metadata": {},
   "outputs": [],
   "source": [
    "plt.figure(figsize = (15, 8))\n",
    "plt.scatter(port_summary.loc[:, \"ann. Risk\"], port_summary.loc[:, \"CAGR\"], s= 20, \n",
    "            c = port_summary.loc[:, \"RaR\"], cmap = \"coolwarm\", vmin = vmin, vmax = vmax, alpha = 0.66)\n",
    "plt.colorbar()\n",
    "plt.scatter(summary.loc[:, \"ann. Risk\"], summary.loc[:, \"CAGR\"],s= 50, marker = \"D\", c = \"black\")\n",
    "for i in summary.index:\n",
    "    plt.annotate(i, xy=(summary.loc[i, \"ann. Risk\"]+0.01, summary.loc[i, \"CAGR\"]+0.01), size = 15)\n",
    "plt.plot(vols, tcagrs) # efficient frontier\n",
    "plt.xlabel(\"ann. Risk (std)\", fontsize = 15)\n",
    "plt.ylabel(\"CAGR\", fontsize = 15)\n",
    "plt.title(\"The Efficient Frontier\", fontsize = 20)\n",
    "plt.show()"
   ]
  },
  {
   "cell_type": "code",
   "execution_count": null,
   "id": "473e52d4",
   "metadata": {},
   "outputs": [],
   "source": []
  },
  {
   "cell_type": "markdown",
   "id": "ea2d88d8",
   "metadata": {},
   "source": [
    "## Comparison: daily Rebalancing vs. no Rebalancing"
   ]
  },
  {
   "cell_type": "markdown",
   "id": "dbde066c",
   "metadata": {},
   "source": [
    "__Efficient Frontier without rebalancing:__"
   ]
  },
  {
   "cell_type": "code",
   "execution_count": null,
   "id": "9151c548",
   "metadata": {},
   "outputs": [],
   "source": [
    "cagr_no = np.array([-0.21321957, -0.20504081, -0.19686206, -0.18868331, -0.18050455,\n",
    "       -0.1723258 , -0.16414704, -0.15596829, -0.14778953, -0.13961078,\n",
    "       -0.13143202, -0.12325327, -0.11507451, -0.10689576, -0.098717  ,\n",
    "       -0.09053825, -0.08235949, -0.07418074, -0.06600198, -0.05782323,\n",
    "       -0.04964447, -0.04146572, -0.03328696, -0.02510821, -0.01692945,\n",
    "       -0.0087507 , -0.00057194,  0.00760681,  0.01578557,  0.02396432,\n",
    "        0.03214308,  0.04032183,  0.04850058,  0.05667934,  0.06485809,\n",
    "        0.07303685,  0.0812156 ,  0.08939436,  0.09757311,  0.10575187,\n",
    "        0.11393062,  0.12210938,  0.13028813,  0.13846689,  0.14664564,\n",
    "        0.1548244 ,  0.16300315,  0.17118191,  0.17936066,  0.18753942,\n",
    "        0.19571817,  0.20389693,  0.21207568,  0.22025444,  0.22843319,\n",
    "        0.23661195,  0.2447907 ,  0.25296946,  0.26114821,  0.26932697,\n",
    "        0.27750572,  0.28568448,  0.29386323,  0.30204198,  0.31022074,\n",
    "        0.31839949,  0.32657825,  0.334757  ,  0.34293576,  0.35111451,\n",
    "        0.35929327,  0.36747202,  0.37565078,  0.38382953,  0.39200829,\n",
    "        0.40018704,  0.4083658 ,  0.41654455,  0.42472331,  0.43290206,\n",
    "        0.44108082,  0.44925957,  0.45743833,  0.46561708,  0.47379584,\n",
    "        0.48197459,  0.49015335,  0.4983321 ,  0.50651086,  0.51468961,\n",
    "        0.52286837,  0.53104712,  0.53922587,  0.54740463,  0.55558338,\n",
    "        0.56376214,  0.57194089,  0.58011965,  0.5882984 ,  0.59647716])"
   ]
  },
  {
   "cell_type": "code",
   "execution_count": null,
   "id": "97e2f239",
   "metadata": {},
   "outputs": [],
   "source": [
    "vols_no = np.array([0.43230733, 0.4082562 , 0.38776821, 0.36971057, 0.35298005,\n",
    "       0.33746244, 0.32307554, 0.30974812, 0.29741952, 0.28603623,\n",
    "       0.27555009, 0.26591947, 0.25710661, 0.2490747 , 0.24178985,\n",
    "       0.23521878, 0.22932929, 0.22408966, 0.2194684 , 0.21543409,\n",
    "       0.2119554 , 0.20898808, 0.2064256 , 0.20423296, 0.20239196,\n",
    "       0.20088063, 0.19967245, 0.19867169, 0.19785033, 0.19719909,\n",
    "       0.19670841, 0.19636225, 0.19615204, 0.19607055, 0.19611186,\n",
    "       0.19626816, 0.19653368, 0.19690195, 0.19736735, 0.19792419,\n",
    "       0.19867678, 0.19968965, 0.20093869, 0.20241949, 0.20410759,\n",
    "       0.20598642, 0.20804255, 0.21026158, 0.2126309 , 0.21513937,\n",
    "       0.21779366, 0.22060839, 0.22356945, 0.22680792, 0.23038234,\n",
    "       0.23426203, 0.23842321, 0.24284222, 0.2474965 , 0.25236585,\n",
    "       0.25743184, 0.2626779 , 0.26808938, 0.273651  , 0.27935259,\n",
    "       0.28518299, 0.29113258, 0.29719306, 0.30335721, 0.30961907,\n",
    "       0.31597335, 0.32252773, 0.32942379, 0.33662063, 0.34408425,\n",
    "       0.3517883 , 0.35971312, 0.36784493, 0.37617501, 0.3846992 ,\n",
    "       0.39341798, 0.40233485, 0.41145694, 0.42079451, 0.4303609 ,\n",
    "       0.44017233, 0.45024792, 0.46060983, 0.47132985, 0.48248702,\n",
    "       0.4941349 , 0.50633574, 0.51916219, 0.53269957, 0.54704879,\n",
    "       0.56233037, 0.57869002, 0.59630658, 0.61540303, 0.63626358])"
   ]
  },
  {
   "cell_type": "code",
   "execution_count": null,
   "id": "01d632bc",
   "metadata": {
    "scrolled": false
   },
   "outputs": [],
   "source": [
    "plt.figure(figsize = (15, 8))\n",
    "plt.scatter(port_summary.loc[:, \"ann. Risk\"], port_summary.loc[:, \"CAGR\"], s= 20, \n",
    "            c = port_summary.loc[:, \"RaR\"], cmap = \"coolwarm\", vmin = vmin, vmax = vmax, alpha = 0.66)\n",
    "plt.colorbar()\n",
    "plt.scatter(summary.loc[:, \"ann. Risk\"], summary.loc[:, \"CAGR\"],s= 50, marker = \"D\", c = \"black\")\n",
    "for i in summary.index:\n",
    "    plt.annotate(i, xy=(summary.loc[i, \"ann. Risk\"]+0.01, summary.loc[i, \"CAGR\"]+0.01), size = 15)\n",
    "plt.plot(vols, tcagrs, label = \"EF daily rebalancing\") # efficient frontier with rebal.\n",
    "plt.plot(vols_no, cagr_no, label = \"EF no rebalancing\") # efficient frontier without rebal.\n",
    "plt.xlabel(\"ann. Risk (std)\", fontsize = 15)\n",
    "plt.ylabel(\"CAGR\", fontsize = 15)\n",
    "plt.legend(fontsize = 12)\n",
    "plt.title(\"The Effect of Rebalancing\", fontsize = 20)\n",
    "plt.show()"
   ]
  },
  {
   "cell_type": "markdown",
   "id": "f1f1834e",
   "metadata": {},
   "source": [
    "__Upward Shift__ of Efficient Frontier:\n",
    "- equal risk & more return or\n",
    "- equal return & less risk"
   ]
  },
  {
   "cell_type": "markdown",
   "id": "b25fc430",
   "metadata": {},
   "source": [
    "Two general effects of rebalancing: <br>\n",
    "- maintain __higher degree of diversification__ / restoring weights (always positive)\n",
    "- __contrarian trading__ / sell winners buy losers (can be positive or negative)"
   ]
  },
  {
   "cell_type": "code",
   "execution_count": null,
   "id": "71a2e99a",
   "metadata": {},
   "outputs": [],
   "source": []
  },
  {
   "cell_type": "markdown",
   "id": "6e71c5cc",
   "metadata": {},
   "source": [
    "## Approximation of Rebalancing Costs"
   ]
  },
  {
   "cell_type": "markdown",
   "id": "97af1df4",
   "metadata": {},
   "source": [
    "Can we really benefit from (daily) Rebalancing? <br>\n",
    "Yes, but only if:\n",
    "- __small changes__ in portfolio weights are possible (large portfolio or fractional trading)\n",
    "- __Rebalancing Costs are lower__ than Rebalancing Benefits"
   ]
  },
  {
   "cell_type": "code",
   "execution_count": null,
   "id": "e3ce959d",
   "metadata": {},
   "outputs": [],
   "source": [
    "w1 # target weights to be reinstated at the end of each day "
   ]
  },
  {
   "cell_type": "code",
   "execution_count": null,
   "id": "730e6d88",
   "metadata": {},
   "outputs": [],
   "source": [
    "returns"
   ]
  },
  {
   "cell_type": "code",
   "execution_count": null,
   "id": "98c7a8f5",
   "metadata": {},
   "outputs": [],
   "source": [
    "matrix = returns.add(1).mul(w1).values\n",
    "matrix"
   ]
  },
  {
   "cell_type": "code",
   "execution_count": null,
   "id": "cf47d042",
   "metadata": {},
   "outputs": [],
   "source": [
    "weights = matrix / matrix.sum(axis = 1, keepdims= True)\n",
    "weights # weights at the end of each day (before rebalancing)"
   ]
  },
  {
   "cell_type": "code",
   "execution_count": null,
   "id": "3fcdf434",
   "metadata": {},
   "outputs": [],
   "source": [
    "weights.shape"
   ]
  },
  {
   "cell_type": "code",
   "execution_count": null,
   "id": "b97df44e",
   "metadata": {},
   "outputs": [],
   "source": [
    "weights.sum(axis = 1)"
   ]
  },
  {
   "cell_type": "code",
   "execution_count": null,
   "id": "7b560c42",
   "metadata": {},
   "outputs": [],
   "source": [
    "delta_weights = weights - w1\n",
    "delta_weights"
   ]
  },
  {
   "cell_type": "code",
   "execution_count": null,
   "id": "f6b328ee",
   "metadata": {},
   "outputs": [],
   "source": [
    "np.abs(delta_weights)"
   ]
  },
  {
   "cell_type": "code",
   "execution_count": null,
   "id": "bea52b5d",
   "metadata": {
    "scrolled": false
   },
   "outputs": [],
   "source": [
    "df = pd.DataFrame(np.abs(delta_weights))\n",
    "df # deviation of weights"
   ]
  },
  {
   "cell_type": "code",
   "execution_count": null,
   "id": "66d9425b",
   "metadata": {},
   "outputs": [],
   "source": [
    "daily_rebal = df.sum(axis = 1).mean()\n",
    "daily_rebal"
   ]
  },
  {
   "cell_type": "markdown",
   "id": "abfee2ff",
   "metadata": {},
   "source": [
    "__-> on average, approx. 1.5% of total portfolio needs to be rebalanced every day (fractional trading).__"
   ]
  },
  {
   "cell_type": "code",
   "execution_count": null,
   "id": "78f34e0d",
   "metadata": {},
   "outputs": [],
   "source": [
    "ptc = 0.01 # worst case for US Stocks\n",
    "ptc"
   ]
  },
  {
   "cell_type": "code",
   "execution_count": null,
   "id": "0974866a",
   "metadata": {},
   "outputs": [],
   "source": [
    "daily_ptc = daily_rebal * ptc\n",
    "daily_ptc"
   ]
  },
  {
   "cell_type": "code",
   "execution_count": null,
   "id": "fcec217d",
   "metadata": {},
   "outputs": [],
   "source": [
    "port1"
   ]
  },
  {
   "cell_type": "code",
   "execution_count": null,
   "id": "75192f14",
   "metadata": {},
   "outputs": [],
   "source": [
    "port1_ac = port1 - daily_ptc\n",
    "port1_ac"
   ]
  },
  {
   "cell_type": "code",
   "execution_count": null,
   "id": "953dc234",
   "metadata": {},
   "outputs": [],
   "source": [
    "ann_risk_return(port1.to_frame())"
   ]
  },
  {
   "cell_type": "code",
   "execution_count": null,
   "id": "ade2ad4a",
   "metadata": {},
   "outputs": [],
   "source": [
    "ann_risk_return(port1_ac.to_frame())"
   ]
  },
  {
   "cell_type": "markdown",
   "id": "c2a4ca52",
   "metadata": {},
   "source": [
    "-> __Significant Rebalancing Costs__ eat up Rebalancing Benefits <br>\n",
    "-> Solution: Reduce Rebalacing __Frequency to monthly/quarterly__ (reduces costs but also benefits)"
   ]
  },
  {
   "cell_type": "code",
   "execution_count": null,
   "id": "1f25f38b",
   "metadata": {},
   "outputs": [],
   "source": []
  }
 ],
 "metadata": {
  "kernelspec": {
   "display_name": "Python 3 (ipykernel)",
   "language": "python",
   "name": "python3"
  },
  "language_info": {
   "codemirror_mode": {
    "name": "ipython",
    "version": 3
   },
   "file_extension": ".py",
   "mimetype": "text/x-python",
   "name": "python",
   "nbconvert_exporter": "python",
   "pygments_lexer": "ipython3",
   "version": "3.9.13"
  }
 },
 "nbformat": 4,
 "nbformat_minor": 5
}

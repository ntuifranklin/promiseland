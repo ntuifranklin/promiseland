{
 "cells": [
  {
   "cell_type": "markdown",
   "id": "4603d7c7",
   "metadata": {},
   "source": [
    "# Keystone Project - Creating and Implementing a customized Investment Strategy (semi-active)"
   ]
  },
  {
   "cell_type": "markdown",
   "id": "96a838af",
   "metadata": {},
   "source": [
    "__Assignment / Goal:__"
   ]
  },
  {
   "cell_type": "markdown",
   "id": "edc7e14f",
   "metadata": {},
   "source": [
    "You want to invest in US Technology Stocks that pay Dividends with a price-weighted approach to avoid highly concentrated positions in AAPL and MSFT. The steps are:"
   ]
  },
  {
   "cell_type": "markdown",
   "id": "6d0abfc3",
   "metadata": {},
   "source": [
    "1. Get all nasdaq listings from the csv-file nasdaq_listings.csv (alternatively, you can get the latest version from the nasdaq stock screener)"
   ]
  },
  {
   "cell_type": "markdown",
   "id": "beb1db70",
   "metadata": {},
   "source": [
    "2. Filter by\n",
    "- US Stocks\n",
    "- Technology Stocks (Sector)"
   ]
  },
  {
   "cell_type": "markdown",
   "id": "c7f382bf",
   "metadata": {},
   "source": [
    "3. Load Prices and Dividends for remaining Ticker Symbols for the last three years (from \"2019-12-01\" to \"2022-11-30\") "
   ]
  },
  {
   "cell_type": "markdown",
   "id": "e7cf1105",
   "metadata": {},
   "source": [
    "4. Identify Dividend paying Stocks (any Dividends in the most recent year -> last 252 trading days)"
   ]
  },
  {
   "cell_type": "markdown",
   "id": "99b5be73",
   "metadata": {},
   "source": [
    "5. Create a price-weighted Total Return Index for the Dividend-paying US Tech Stocks covering the last three years."
   ]
  },
  {
   "cell_type": "markdown",
   "id": "715f46dd",
   "metadata": {},
   "source": [
    "6. Track the Index with only 40 stocks. Try to minimize the Tracking Error. "
   ]
  },
  {
   "cell_type": "markdown",
   "id": "c3108b22",
   "metadata": {},
   "source": [
    "7. Buy one share each with your IBKR Paper Trading Account. "
   ]
  },
  {
   "cell_type": "markdown",
   "id": "cc399773",
   "metadata": {},
   "source": [
    "8. Compare your semi-active Strategy with an appropriate Benchmark (broad market index)"
   ]
  },
  {
   "cell_type": "code",
   "execution_count": null,
   "id": "3117bc9e",
   "metadata": {},
   "outputs": [],
   "source": []
  },
  {
   "cell_type": "markdown",
   "id": "e39a968c",
   "metadata": {},
   "source": [
    "# --------------------SOLUTION------------------------------"
   ]
  },
  {
   "cell_type": "code",
   "execution_count": null,
   "id": "ebc5f5b6",
   "metadata": {},
   "outputs": [],
   "source": []
  },
  {
   "cell_type": "code",
   "execution_count": null,
   "id": "fa4f9905",
   "metadata": {},
   "outputs": [],
   "source": []
  },
  {
   "cell_type": "code",
   "execution_count": null,
   "id": "dc38368c",
   "metadata": {},
   "outputs": [],
   "source": []
  },
  {
   "cell_type": "code",
   "execution_count": null,
   "id": "5bb9c841",
   "metadata": {},
   "outputs": [],
   "source": []
  },
  {
   "cell_type": "markdown",
   "id": "38b40b3d",
   "metadata": {},
   "source": [
    "## Get all nasdaq listings"
   ]
  },
  {
   "cell_type": "code",
   "execution_count": null,
   "id": "0ba24a16",
   "metadata": {},
   "outputs": [],
   "source": [
    "import yfinance as yf\n",
    "import pandas as pd\n",
    "import numpy as np\n",
    "import matplotlib.pyplot as plt"
   ]
  },
  {
   "cell_type": "code",
   "execution_count": null,
   "id": "e064a3b3",
   "metadata": {},
   "outputs": [],
   "source": [
    "listings = pd.read_csv(\"nasdaq_listings.csv\", index_col = \"Symbol\")\n",
    "listings"
   ]
  },
  {
   "cell_type": "code",
   "execution_count": null,
   "id": "f6294930",
   "metadata": {},
   "outputs": [],
   "source": [
    "listings.info()"
   ]
  },
  {
   "cell_type": "code",
   "execution_count": null,
   "id": "cdd2b5ed",
   "metadata": {},
   "outputs": [],
   "source": [
    "listings.Sector.value_counts()"
   ]
  },
  {
   "cell_type": "code",
   "execution_count": null,
   "id": "3aeede53",
   "metadata": {},
   "outputs": [],
   "source": [
    "listings[listings.Sector == \"Technology\"].Industry.value_counts()"
   ]
  },
  {
   "cell_type": "code",
   "execution_count": null,
   "id": "28bc5116",
   "metadata": {},
   "outputs": [],
   "source": []
  },
  {
   "cell_type": "markdown",
   "id": "ca92df37",
   "metadata": {},
   "source": [
    "## Filter Listings"
   ]
  },
  {
   "cell_type": "code",
   "execution_count": null,
   "id": "baa36dc8",
   "metadata": {},
   "outputs": [],
   "source": [
    "mask1 = listings.Sector == \"Technology\"\n",
    "mask1"
   ]
  },
  {
   "cell_type": "code",
   "execution_count": null,
   "id": "4e0a6183",
   "metadata": {},
   "outputs": [],
   "source": [
    "mask2 = (listings.Country == \"United States\") \n",
    "mask2"
   ]
  },
  {
   "cell_type": "code",
   "execution_count": null,
   "id": "d83cf242",
   "metadata": {},
   "outputs": [],
   "source": [
    "tech = listings.loc[mask1 & mask2]\n",
    "tech"
   ]
  },
  {
   "cell_type": "code",
   "execution_count": null,
   "id": "4b7cf3eb",
   "metadata": {},
   "outputs": [],
   "source": [
    "tech.info()"
   ]
  },
  {
   "cell_type": "code",
   "execution_count": null,
   "id": "7683b7dc",
   "metadata": {},
   "outputs": [],
   "source": [
    "symbols = list(tech.index)\n",
    "symbols"
   ]
  },
  {
   "cell_type": "code",
   "execution_count": null,
   "id": "02b171e4",
   "metadata": {},
   "outputs": [],
   "source": [
    "tech[tech.index.str.contains(\"ACEV\")]"
   ]
  },
  {
   "cell_type": "code",
   "execution_count": null,
   "id": "cfab608c",
   "metadata": {},
   "outputs": [],
   "source": []
  },
  {
   "cell_type": "markdown",
   "id": "a3b0f2ac",
   "metadata": {},
   "source": [
    "## Loading Prices and Dividends"
   ]
  },
  {
   "cell_type": "code",
   "execution_count": null,
   "id": "6ca003a3",
   "metadata": {},
   "outputs": [],
   "source": [
    "start = \"2019-12-01\"\n",
    "end = \"2022-11-30\""
   ]
  },
  {
   "cell_type": "code",
   "execution_count": null,
   "id": "ff22b197",
   "metadata": {},
   "outputs": [],
   "source": [
    "symbols"
   ]
  },
  {
   "cell_type": "code",
   "execution_count": null,
   "id": "b0c8e3ba",
   "metadata": {},
   "outputs": [],
   "source": [
    "data = yf.download(symbols, start, end, actions = True)\n",
    "data"
   ]
  },
  {
   "cell_type": "code",
   "execution_count": null,
   "id": "6b23f339",
   "metadata": {},
   "outputs": [],
   "source": [
    "data"
   ]
  },
  {
   "cell_type": "code",
   "execution_count": null,
   "id": "6136d06c",
   "metadata": {},
   "outputs": [],
   "source": [
    "data.index = pd.to_datetime(data.index)"
   ]
  },
  {
   "cell_type": "code",
   "execution_count": null,
   "id": "d79d04bf",
   "metadata": {},
   "outputs": [],
   "source": [
    "data.info()"
   ]
  },
  {
   "cell_type": "code",
   "execution_count": null,
   "id": "95cceba4",
   "metadata": {},
   "outputs": [],
   "source": []
  },
  {
   "cell_type": "markdown",
   "id": "b7f673ab",
   "metadata": {},
   "source": [
    "## Dividend paying Stocks"
   ]
  },
  {
   "cell_type": "code",
   "execution_count": null,
   "id": "8e95eea7",
   "metadata": {},
   "outputs": [],
   "source": [
    "data"
   ]
  },
  {
   "cell_type": "markdown",
   "id": "a0d05400",
   "metadata": {},
   "source": [
    "Dividend paying stocks: paying __any__ Dividends in the most recent year (since \"2021-12-01\") "
   ]
  },
  {
   "cell_type": "code",
   "execution_count": null,
   "id": "a0c0d8b9",
   "metadata": {},
   "outputs": [],
   "source": [
    "dividends = data.Dividends.loc[\"2021-12-01\":].sum()\n",
    "dividends"
   ]
  },
  {
   "cell_type": "code",
   "execution_count": null,
   "id": "faeda401",
   "metadata": {},
   "outputs": [],
   "source": [
    "dividends[dividends > 0]"
   ]
  },
  {
   "cell_type": "code",
   "execution_count": null,
   "id": "c54c4d05",
   "metadata": {},
   "outputs": [],
   "source": [
    "symbols = dividends[dividends > 0].index\n",
    "symbols"
   ]
  },
  {
   "cell_type": "code",
   "execution_count": null,
   "id": "cb99919e",
   "metadata": {},
   "outputs": [],
   "source": [
    "close = data.Close[symbols].copy()\n",
    "close"
   ]
  },
  {
   "cell_type": "code",
   "execution_count": null,
   "id": "a000b40d",
   "metadata": {},
   "outputs": [],
   "source": []
  },
  {
   "cell_type": "markdown",
   "id": "2ae03bd8",
   "metadata": {},
   "source": [
    "## Creating a price-weighted Total Return Index"
   ]
  },
  {
   "cell_type": "code",
   "execution_count": null,
   "id": "4a151938",
   "metadata": {},
   "outputs": [],
   "source": [
    "close"
   ]
  },
  {
   "cell_type": "code",
   "execution_count": null,
   "id": "45e9cc41",
   "metadata": {},
   "outputs": [],
   "source": [
    "weights_PWI = close.div(close.sum(axis = 1), axis = \"rows\")\n",
    "weights_PWI"
   ]
  },
  {
   "cell_type": "code",
   "execution_count": null,
   "id": "adadb5ae",
   "metadata": {},
   "outputs": [],
   "source": [
    "weights_PWI.sum(axis = 1)"
   ]
  },
  {
   "cell_type": "code",
   "execution_count": null,
   "id": "6ffafafe",
   "metadata": {},
   "outputs": [],
   "source": [
    "total_returns = data[\"Adj Close\"][symbols].pct_change() # Adj Close Prices!\n",
    "total_returns"
   ]
  },
  {
   "cell_type": "code",
   "execution_count": null,
   "id": "e50600f4",
   "metadata": {},
   "outputs": [],
   "source": [
    "returns_index = total_returns.mul(weights_PWI.shift()).sum(axis = \"columns\")\n",
    "returns_index"
   ]
  },
  {
   "cell_type": "code",
   "execution_count": null,
   "id": "cf9b1115",
   "metadata": {},
   "outputs": [],
   "source": [
    "index = returns_index.add(1).cumprod().mul(100)\n",
    "index"
   ]
  },
  {
   "cell_type": "code",
   "execution_count": null,
   "id": "cafe4fcd",
   "metadata": {},
   "outputs": [],
   "source": [
    "index.name = \"Index\""
   ]
  },
  {
   "cell_type": "code",
   "execution_count": null,
   "id": "9c44367c",
   "metadata": {},
   "outputs": [],
   "source": [
    "index.plot()\n",
    "plt.show()"
   ]
  },
  {
   "cell_type": "code",
   "execution_count": null,
   "id": "f7eccaee",
   "metadata": {},
   "outputs": [],
   "source": []
  },
  {
   "cell_type": "markdown",
   "id": "5de0671c",
   "metadata": {},
   "source": [
    "## Index Tracking"
   ]
  },
  {
   "cell_type": "code",
   "execution_count": null,
   "id": "d538d775",
   "metadata": {},
   "outputs": [],
   "source": [
    "const = symbols.to_list()\n",
    "const"
   ]
  },
  {
   "cell_type": "code",
   "execution_count": null,
   "id": "e80328f1",
   "metadata": {},
   "outputs": [],
   "source": [
    "n = len(const)\n",
    "n"
   ]
  },
  {
   "cell_type": "code",
   "execution_count": null,
   "id": "64caf24a",
   "metadata": {},
   "outputs": [],
   "source": [
    "i = 40\n",
    "i"
   ]
  },
  {
   "cell_type": "code",
   "execution_count": null,
   "id": "ddfc2d40",
   "metadata": {},
   "outputs": [],
   "source": [
    "sims = 10000 "
   ]
  },
  {
   "cell_type": "code",
   "execution_count": null,
   "id": "946f5ff2",
   "metadata": {},
   "outputs": [],
   "source": [
    "np.random.seed(123)\n",
    "min_te = 1\n",
    "tstocks = None\n",
    "tportfolio = None\n",
    "for sim in range(sims):\n",
    "    tracking_stocks = np.random.choice(a = const, size = i, replace = False)\n",
    "    weights_pwi = close[tracking_stocks].div(close[tracking_stocks].sum(axis = 1), axis = \"rows\")\n",
    "    tracking_returns = total_returns[tracking_stocks].mul(weights_pwi.shift()).sum(axis = \"columns\")\n",
    "    active_returns = tracking_returns - returns_index\n",
    "    tracking_error = active_returns.std() * np.sqrt(252)\n",
    "    tracking_portfolio = tracking_returns.add(1).cumprod()\n",
    "    if tracking_error < min_te:\n",
    "        min_te = tracking_error\n",
    "        tstocks = tracking_stocks\n",
    "        tportfolio = tracking_portfolio"
   ]
  },
  {
   "cell_type": "code",
   "execution_count": null,
   "id": "2552c75f",
   "metadata": {},
   "outputs": [],
   "source": [
    "min_te"
   ]
  },
  {
   "cell_type": "code",
   "execution_count": null,
   "id": "1d844014",
   "metadata": {},
   "outputs": [],
   "source": [
    "tstocks"
   ]
  },
  {
   "cell_type": "code",
   "execution_count": null,
   "id": "97167b50",
   "metadata": {
    "scrolled": true
   },
   "outputs": [],
   "source": [
    "tportfolio"
   ]
  },
  {
   "cell_type": "code",
   "execution_count": null,
   "id": "5a65bc54",
   "metadata": {},
   "outputs": [],
   "source": [
    "tportfolio.name = \"Tracking_Portfolio\""
   ]
  },
  {
   "cell_type": "code",
   "execution_count": null,
   "id": "0805841d",
   "metadata": {},
   "outputs": [],
   "source": [
    "index / index.iloc[0]"
   ]
  },
  {
   "cell_type": "code",
   "execution_count": null,
   "id": "e1e92f92",
   "metadata": {
    "scrolled": false
   },
   "outputs": [],
   "source": [
    "tportfolio.plot(figsize = (12, 8))\n",
    "(index/index.iloc[0]).plot()\n",
    "plt.legend()\n",
    "plt.show()"
   ]
  },
  {
   "cell_type": "code",
   "execution_count": null,
   "id": "3600a883",
   "metadata": {},
   "outputs": [],
   "source": []
  },
  {
   "cell_type": "markdown",
   "id": "ce5d40c1",
   "metadata": {},
   "source": [
    "## Trading with Interactive Brokers"
   ]
  },
  {
   "cell_type": "code",
   "execution_count": null,
   "id": "a8d1b58f",
   "metadata": {},
   "outputs": [],
   "source": [
    "tstocks"
   ]
  },
  {
   "cell_type": "code",
   "execution_count": null,
   "id": "1c1b8525",
   "metadata": {},
   "outputs": [],
   "source": [
    "shares = 1"
   ]
  },
  {
   "cell_type": "code",
   "execution_count": null,
   "id": "f4278a09",
   "metadata": {},
   "outputs": [],
   "source": [
    "close[tstocks].iloc[-1].sum() * shares"
   ]
  },
  {
   "cell_type": "code",
   "execution_count": null,
   "id": "f6418b61",
   "metadata": {},
   "outputs": [],
   "source": [
    "target = pd.DataFrame(data = {\"symbol\": tstocks})\n",
    "target"
   ]
  },
  {
   "cell_type": "code",
   "execution_count": null,
   "id": "a1eebcbb",
   "metadata": {},
   "outputs": [],
   "source": [
    "target[\"position\"] = shares\n",
    "target"
   ]
  },
  {
   "cell_type": "code",
   "execution_count": null,
   "id": "c31d83a9",
   "metadata": {},
   "outputs": [],
   "source": [
    "from ib_insync import *\n",
    "util.startLoop()"
   ]
  },
  {
   "cell_type": "code",
   "execution_count": null,
   "id": "71b2e2d4",
   "metadata": {},
   "outputs": [],
   "source": [
    "ib = IB()"
   ]
  },
  {
   "cell_type": "code",
   "execution_count": null,
   "id": "353a3221",
   "metadata": {},
   "outputs": [],
   "source": [
    "ib.connect()"
   ]
  },
  {
   "cell_type": "code",
   "execution_count": null,
   "id": "c6e050bc",
   "metadata": {},
   "outputs": [],
   "source": [
    "pos = ib.positions()\n",
    "pos"
   ]
  },
  {
   "cell_type": "code",
   "execution_count": null,
   "id": "65d57758",
   "metadata": {},
   "outputs": [],
   "source": [
    "df = util.df(pos)\n",
    "df"
   ]
  },
  {
   "cell_type": "code",
   "execution_count": null,
   "id": "e88609d7",
   "metadata": {},
   "outputs": [],
   "source": [
    "if df is not None:\n",
    "    df[\"symbol\"] = df.contract.apply(lambda x: x.symbol)\n",
    "    df[\"conID\"] = df.contract.apply(lambda x: x.conId)\n",
    "else: \n",
    "    df = pd.DataFrame(columns = [\"symbol\", \"position\"])"
   ]
  },
  {
   "cell_type": "code",
   "execution_count": null,
   "id": "f59f1690",
   "metadata": {},
   "outputs": [],
   "source": [
    "df"
   ]
  },
  {
   "cell_type": "code",
   "execution_count": null,
   "id": "479ed9c8",
   "metadata": {},
   "outputs": [],
   "source": [
    "trades = pd.merge(target, df[[\"symbol\", \"position\"]], \"outer\", on = \"symbol\", suffixes = [\"_t\", \"_a\"])\n",
    "trades"
   ]
  },
  {
   "cell_type": "code",
   "execution_count": null,
   "id": "0d571a4f",
   "metadata": {},
   "outputs": [],
   "source": [
    "trades.fillna(0, inplace = True)\n",
    "trades"
   ]
  },
  {
   "cell_type": "code",
   "execution_count": null,
   "id": "b63c712b",
   "metadata": {},
   "outputs": [],
   "source": [
    "trades[\"trades\"] = trades.position_t - trades.position_a "
   ]
  },
  {
   "cell_type": "code",
   "execution_count": null,
   "id": "55a7a033",
   "metadata": {},
   "outputs": [],
   "source": [
    "trades"
   ]
  },
  {
   "cell_type": "code",
   "execution_count": null,
   "id": "69a1de6e",
   "metadata": {},
   "outputs": [],
   "source": [
    "trades = trades[trades.trades !=0].set_index(\"symbol\").copy()\n",
    "trades"
   ]
  },
  {
   "cell_type": "code",
   "execution_count": null,
   "id": "710026fb",
   "metadata": {},
   "outputs": [],
   "source": [
    "for symbol in trades.index:\n",
    "    to_trade = trades.loc[symbol, \"trades\"]\n",
    "    if to_trade > 0: \n",
    "        side = \"BUY\"\n",
    "    elif to_trade < 0:\n",
    "        side = \"SELL\"\n",
    "    contract = Stock(symbol, \"SMART\", \"USD\")\n",
    "    cds = ib.reqContractDetails(contract)\n",
    "    if len(cds) == 0:\n",
    "        print(\"No Contract for {} found.\".format(symbol))\n",
    "    elif len(cds) == 1:\n",
    "        contract = cds[0].contract\n",
    "        order = MarketOrder(side, abs(to_trade))\n",
    "        trade = ib.placeOrder(contract, order)\n",
    "        ib.sleep(2) # new\n",
    "        #while not trade.isDone():\n",
    "            #ib.waitOnUpdate()\n",
    "        if trade.orderStatus.status == \"Filled\":\n",
    "            print(\"{} {} @ {}\".format(side, symbol, trade.orderStatus.avgFillPrice))\n",
    "        else:\n",
    "            print(\"{} {} {}\".format(side, symbol, trade.orderStatus.status)) # new\n",
    "    else:\n",
    "        contract = cds[0].contract\n",
    "        print(\"Multiple Contracts for {} found.\".format(symbol))\n",
    "        order = MarketOrder(side, abs(to_trade))\n",
    "        trade = ib.placeOrder(contract, order)\n",
    "        ib.sleep(2) # new\n",
    "        #while not trade.isDone():\n",
    "            #ib.waitOnUpdate()\n",
    "        if trade.orderStatus.status == \"Filled\":\n",
    "            print(\"{} {} @ {}\".format(side, symbol, trade.orderStatus.avgFillPrice))\n",
    "        else:\n",
    "            print(\"{} {} {}\".format(side, symbol, trade.orderStatus.status))# new\n",
    "ib.sleep(30)\n",
    "pos = ib.positions()\n",
    "df = util.df(pos)\n",
    "if df is not None:\n",
    "    df[\"symbol\"] = df.contract.apply(lambda x: x.symbol)\n",
    "    df[\"conID\"] = df.contract.apply(lambda x: x.conId)\n",
    "else: \n",
    "    df = pd.DataFrame(columns = [\"symbol\", \"position\"])\n",
    "df"
   ]
  },
  {
   "cell_type": "code",
   "execution_count": null,
   "id": "4fcc9d8c",
   "metadata": {},
   "outputs": [],
   "source": [
    "ib.openOrders()"
   ]
  },
  {
   "cell_type": "code",
   "execution_count": null,
   "id": "82c07f2b",
   "metadata": {},
   "outputs": [],
   "source": [
    "ib.disconnect()"
   ]
  },
  {
   "cell_type": "code",
   "execution_count": null,
   "id": "49b48ee5",
   "metadata": {},
   "outputs": [],
   "source": []
  },
  {
   "cell_type": "markdown",
   "id": "3b50fd08",
   "metadata": {},
   "source": [
    "### What´s next?"
   ]
  },
  {
   "cell_type": "markdown",
   "id": "7b70e00b",
   "metadata": {},
   "source": [
    "You should __monitor and measure the performance__ of your Portfolio and\n",
    "- check the __tracking quality__\n",
    "- __compare__ the performance of your strategy with an __appropriate Benchmark__ (e.g. S&P 500)"
   ]
  },
  {
   "cell_type": "markdown",
   "id": "ecbe5317",
   "metadata": {},
   "source": [
    "On a regular basis (e.g. annually) you should __reconstitute your portfolio__ and \n",
    "- remove stocks that __don´t fit the strategy__ any more (e.g. stop paying dividends)\n",
    "- add new stocks that __fit the strategy__ then\n",
    "- add/remove stocks to __improve tracking quality__\n",
    "- to manage/minimize trading costs, you can __limit the number of stocks__ to be added/removed"
   ]
  },
  {
   "cell_type": "code",
   "execution_count": null,
   "id": "80cbc0ab",
   "metadata": {},
   "outputs": [],
   "source": []
  },
  {
   "cell_type": "markdown",
   "id": "5cc5c887",
   "metadata": {},
   "source": [
    "## Backtesting and the Look-Ahead Bias"
   ]
  },
  {
   "cell_type": "code",
   "execution_count": null,
   "id": "caaa5efc",
   "metadata": {},
   "outputs": [],
   "source": [
    "index"
   ]
  },
  {
   "cell_type": "markdown",
   "id": "61a12cbc",
   "metadata": {},
   "source": [
    "__Is this the historical performance of our strategy (Backtest)? No__"
   ]
  },
  {
   "cell_type": "markdown",
   "id": "9130bb65",
   "metadata": {},
   "source": [
    "- Stocks were selected today based on whether they __fit the strategy today__\n",
    "- To backtest the strategy (e.g. for the last year) we have to make the selection __before the backtesting period__ (one year ago) \n",
    "- otherwise: __Look-Ahead Bias__ (assuming we can make decisions based on future data that is not available yet)."
   ]
  },
  {
   "cell_type": "code",
   "execution_count": null,
   "id": "3c3d7f0f",
   "metadata": {},
   "outputs": [],
   "source": []
  },
  {
   "cell_type": "markdown",
   "id": "8d474dc8",
   "metadata": {},
   "source": [
    "__Realistic Assumption__: Country and Sector hasn´t changed in the last year"
   ]
  },
  {
   "cell_type": "code",
   "execution_count": null,
   "id": "07f1c2e5",
   "metadata": {},
   "outputs": [],
   "source": [
    "data"
   ]
  },
  {
   "cell_type": "markdown",
   "id": "f462b815",
   "metadata": {},
   "source": [
    "- Plan: Backtest from \"2021-12-01\" to \"2022-11-30\" \n",
    "- Dividend-paying Stocks: Paying any Dividends in the year before (from \"2020-12-01\" to \"2021-11-30\")"
   ]
  },
  {
   "cell_type": "code",
   "execution_count": null,
   "id": "5748637e",
   "metadata": {},
   "outputs": [],
   "source": [
    "dividends = data.Dividends.loc[\"2020-12-01\":\"2021-11-30\"].sum()\n",
    "dividends"
   ]
  },
  {
   "cell_type": "code",
   "execution_count": null,
   "id": "c14edd78",
   "metadata": {},
   "outputs": [],
   "source": [
    "symbols = dividends[dividends > 0].index\n",
    "symbols"
   ]
  },
  {
   "cell_type": "code",
   "execution_count": null,
   "id": "2d6b55bc",
   "metadata": {},
   "outputs": [],
   "source": [
    "len(symbols)"
   ]
  },
  {
   "cell_type": "code",
   "execution_count": null,
   "id": "41dda46d",
   "metadata": {},
   "outputs": [],
   "source": [
    "close = data.Close.loc[\"2021-12-01\":\"2022-11-30\", symbols].copy()\n",
    "close"
   ]
  },
  {
   "cell_type": "code",
   "execution_count": null,
   "id": "6e7b5902",
   "metadata": {},
   "outputs": [],
   "source": [
    "weights_PWI = close.div(close.sum(axis = 1), axis = \"rows\")\n",
    "weights_PWI"
   ]
  },
  {
   "cell_type": "code",
   "execution_count": null,
   "id": "fde69eae",
   "metadata": {},
   "outputs": [],
   "source": [
    "total_returns = data[\"Adj Close\"].loc[\"2021-12-01\":\"2022-11-30\", symbols].pct_change() # Adj Close Prices!\n",
    "total_returns"
   ]
  },
  {
   "cell_type": "code",
   "execution_count": null,
   "id": "aca0988e",
   "metadata": {},
   "outputs": [],
   "source": [
    "returns_index = total_returns.mul(weights_PWI.shift()).sum(axis = \"columns\")\n",
    "returns_index"
   ]
  },
  {
   "cell_type": "code",
   "execution_count": null,
   "id": "264aad1d",
   "metadata": {},
   "outputs": [],
   "source": [
    "index = returns_index.add(1).cumprod().mul(100)\n",
    "index"
   ]
  },
  {
   "cell_type": "code",
   "execution_count": null,
   "id": "85e692ca",
   "metadata": {},
   "outputs": [],
   "source": []
  },
  {
   "cell_type": "markdown",
   "id": "3017bcfc",
   "metadata": {},
   "source": [
    "## Backtesting and the Survivorship Bias"
   ]
  },
  {
   "cell_type": "markdown",
   "id": "df439533",
   "metadata": {},
   "source": [
    "Still something missing? Yes.\n",
    "- The backtest does __not include failed/delisted Stocks__\n",
    "- It only includes Stocks that survived until today (__Survivorship Bias__). \n",
    "- Backtesting with Survivorship Bias typically __overstates__ true perfromance.\n",
    "- Solution: include failed/delisted stocks (more advanced data source needed!)"
   ]
  },
  {
   "cell_type": "code",
   "execution_count": null,
   "id": "a3ed598d",
   "metadata": {},
   "outputs": [],
   "source": []
  },
  {
   "cell_type": "markdown",
   "id": "b68c0edb",
   "metadata": {},
   "source": [
    "## Benchmarking and the Information Ratio"
   ]
  },
  {
   "cell_type": "code",
   "execution_count": null,
   "id": "87f11c98",
   "metadata": {},
   "outputs": [],
   "source": [
    "bench = index.to_frame()\n",
    "bench"
   ]
  },
  {
   "cell_type": "code",
   "execution_count": null,
   "id": "d5dad9bd",
   "metadata": {},
   "outputs": [],
   "source": [
    "bench.columns = [\"strategy\"]\n",
    "bench"
   ]
  },
  {
   "cell_type": "code",
   "execution_count": null,
   "id": "9d35dc8a",
   "metadata": {},
   "outputs": [],
   "source": [
    "SP500 = yf.download(\"^SP500TR\", \"2021-12-01\", \"2022-11-30\") \n",
    "SP500"
   ]
  },
  {
   "cell_type": "code",
   "execution_count": null,
   "id": "8e0f527f",
   "metadata": {},
   "outputs": [],
   "source": [
    "bench[\"benchmark\"] = SP500[\"Adj Close\"].div(SP500[\"Adj Close\"][0]).mul(100)\n",
    "bench"
   ]
  },
  {
   "cell_type": "code",
   "execution_count": null,
   "id": "584f34d8",
   "metadata": {},
   "outputs": [],
   "source": [
    "bench.plot(figsize = (12, 8))\n",
    "plt.show()"
   ]
  },
  {
   "cell_type": "code",
   "execution_count": null,
   "id": "9b3032ac",
   "metadata": {},
   "outputs": [],
   "source": [
    "returns = bench.pct_change()\n",
    "returns"
   ]
  },
  {
   "cell_type": "code",
   "execution_count": null,
   "id": "3e616c31",
   "metadata": {},
   "outputs": [],
   "source": [
    "def ann_risk_return(returns_df): # assumes simple returns as input\n",
    "    summary = pd.DataFrame(index = returns_df.columns)\n",
    "    summary[\"ann. Risk\"] = returns_df.std() * np.sqrt(252)\n",
    "    log_returns = np.log(returns_df + 1)\n",
    "    summary[\"CAGR\"] = np.exp(log_returns.mean() * 252) - 1\n",
    "    return summary"
   ]
  },
  {
   "cell_type": "code",
   "execution_count": null,
   "id": "83902ee8",
   "metadata": {},
   "outputs": [],
   "source": [
    "ann_risk_return(returns)"
   ]
  },
  {
   "cell_type": "markdown",
   "id": "9927e47c",
   "metadata": {},
   "source": [
    "__-> Strategy underperformed in market downturn (no surprise for tech stocks)__"
   ]
  },
  {
   "cell_type": "code",
   "execution_count": null,
   "id": "6d369f37",
   "metadata": {},
   "outputs": [],
   "source": [
    "def tracking(returns_df, index):\n",
    "    active_returns = returns_df.sub(returns_df[index], axis = \"rows\")\n",
    "    summary = pd.DataFrame(index = returns_df.columns)\n",
    "    summary[\"TrackingError\"] = active_returns.std() * np.sqrt(252)\n",
    "    log_returns = np.log(active_returns + 1)\n",
    "    summary[\"ActiveReturn\"] = np.exp(log_returns.mean() * 252) - 1\n",
    "    return summary"
   ]
  },
  {
   "cell_type": "code",
   "execution_count": null,
   "id": "9a71076f",
   "metadata": {},
   "outputs": [],
   "source": [
    "summary = tracking(returns, \"benchmark\")\n",
    "summary"
   ]
  },
  {
   "cell_type": "code",
   "execution_count": null,
   "id": "9a5863dc",
   "metadata": {},
   "outputs": [],
   "source": [
    "summary[\"InformationRatio\"] = summary.ActiveReturn / summary.TrackingError\n",
    "summary"
   ]
  },
  {
   "cell_type": "markdown",
   "id": "950bd1f6",
   "metadata": {},
   "source": [
    "The __Information Ratio (IR)__ measures and compares the active return of an investment (e.g., a security or portfolio) compared to a benchmark index relative to the volatility of the active return (also known as active risk or benchmark tracking risk). It is defined as the active return (the difference between the returns of the investment and the returns of the benchmark) divided by the tracking error (the standard deviation of the active return, i.e., the additional risk). It represents the __additional amount of return that an investor receives per unit of increase in risk__. (source: Wikipedia)"
   ]
  },
  {
   "cell_type": "markdown",
   "id": "78d9d1bf",
   "metadata": {},
   "source": [
    "- The IR __measures the success__ of active/semi-active strategies relative to the benchmark\n",
    "- postive IR: __\"beating the benchmark\"__\n",
    "- __The higher the better__ (semi-active investing)"
   ]
  },
  {
   "cell_type": "code",
   "execution_count": null,
   "id": "742ee29b",
   "metadata": {},
   "outputs": [],
   "source": []
  }
 ],
 "metadata": {
  "kernelspec": {
   "display_name": "Python 3 (ipykernel)",
   "language": "python",
   "name": "python3"
  },
  "language_info": {
   "codemirror_mode": {
    "name": "ipython",
    "version": 3
   },
   "file_extension": ".py",
   "mimetype": "text/x-python",
   "name": "python",
   "nbconvert_exporter": "python",
   "pygments_lexer": "ipython3",
   "version": "3.9.13"
  }
 },
 "nbformat": 4,
 "nbformat_minor": 5
}

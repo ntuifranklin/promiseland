{
 "cells": [
  {
   "cell_type": "markdown",
   "id": "3dec88eb",
   "metadata": {},
   "source": [
    "# Building Stock Indices"
   ]
  },
  {
   "cell_type": "markdown",
   "id": "c01fc8da",
   "metadata": {},
   "source": [
    "Note: __yfinance is currently unstable/unreliable__ when it comes to downloading fundamental data with the ticker object. In particular, __ticker.info()__ is flawed."
   ]
  },
  {
   "cell_type": "markdown",
   "id": "a8382a7b",
   "metadata": {},
   "source": [
    "__Action required__: Check for the __latest yfinance versions__ and update with the following command (Anaconda Prompt / Terminal):"
   ]
  },
  {
   "cell_type": "markdown",
   "id": "e76cc2b0",
   "metadata": {},
   "source": [
    "pip install yfinance --upgrade"
   ]
  },
  {
   "cell_type": "markdown",
   "id": "0704ba58",
   "metadata": {},
   "source": [
    "In the following, I have added an __alternative Yahoo Finance API Wrapper__, which is more stable/reliable: __yahooquery__"
   ]
  },
  {
   "cell_type": "markdown",
   "id": "c2970573",
   "metadata": {},
   "source": [
    "__Action required: Please install yahooquery with the following command (Anaconda Prompt / Terminal):__"
   ]
  },
  {
   "cell_type": "markdown",
   "id": "8684e316",
   "metadata": {},
   "source": [
    "pip install yahooquery"
   ]
  },
  {
   "cell_type": "code",
   "execution_count": null,
   "id": "e4cec076",
   "metadata": {},
   "outputs": [],
   "source": []
  },
  {
   "cell_type": "markdown",
   "id": "c833d1fa",
   "metadata": {},
   "source": [
    "## Getting started"
   ]
  },
  {
   "cell_type": "code",
   "execution_count": null,
   "id": "dcc56de6",
   "metadata": {},
   "outputs": [],
   "source": [
    "import pandas as pd\n",
    "import numpy as np\n",
    "import matplotlib.pyplot as plt\n",
    "import yfinance as yf\n",
    "pd.set_option('display.float_format', lambda x: '%.2f' % x)"
   ]
  },
  {
   "cell_type": "code",
   "execution_count": null,
   "id": "49a8d981",
   "metadata": {},
   "outputs": [],
   "source": [
    "df = pd.read_csv(\"DJI_Const.csv\", header = [0, 1], index_col = 0, parse_dates=[0])\n",
    "df"
   ]
  },
  {
   "cell_type": "code",
   "execution_count": null,
   "id": "d4ef278d",
   "metadata": {},
   "outputs": [],
   "source": [
    "df.dropna(inplace = True)\n",
    "df"
   ]
  },
  {
   "cell_type": "code",
   "execution_count": null,
   "id": "25a11806",
   "metadata": {},
   "outputs": [],
   "source": [
    "close = df.Close.copy()\n",
    "close"
   ]
  },
  {
   "cell_type": "code",
   "execution_count": null,
   "id": "172e2810",
   "metadata": {},
   "outputs": [],
   "source": [
    "returns = close.pct_change() # simple returns\n",
    "returns"
   ]
  },
  {
   "cell_type": "code",
   "execution_count": null,
   "id": "57357cef",
   "metadata": {},
   "outputs": [],
   "source": [
    "index = \"^DJI\""
   ]
  },
  {
   "cell_type": "code",
   "execution_count": null,
   "id": "c7197a50",
   "metadata": {},
   "outputs": [],
   "source": [
    "const = close.columns.drop([index])\n",
    "const"
   ]
  },
  {
   "cell_type": "code",
   "execution_count": null,
   "id": "9f9366d2",
   "metadata": {},
   "outputs": [],
   "source": []
  },
  {
   "cell_type": "markdown",
   "id": "b73a7e39",
   "metadata": {},
   "source": [
    "## Building a Price-weighted Index"
   ]
  },
  {
   "cell_type": "code",
   "execution_count": null,
   "id": "696dd209",
   "metadata": {
    "scrolled": false
   },
   "outputs": [],
   "source": [
    "close[const]"
   ]
  },
  {
   "cell_type": "code",
   "execution_count": null,
   "id": "e76fa8a6",
   "metadata": {
    "scrolled": true
   },
   "outputs": [],
   "source": [
    "close[const].sum(axis = 1)[0] # sum of prices day 1"
   ]
  },
  {
   "cell_type": "markdown",
   "id": "72c385b3",
   "metadata": {},
   "source": [
    "__Index (Base Value = 100)__"
   ]
  },
  {
   "cell_type": "code",
   "execution_count": null,
   "id": "47855716",
   "metadata": {},
   "outputs": [],
   "source": [
    "pwi = close[const].sum(axis = 1).div(close[const].sum(axis = 1)[0]).mul(100)\n",
    "pwi"
   ]
  },
  {
   "cell_type": "code",
   "execution_count": null,
   "id": "80bf77b8",
   "metadata": {},
   "outputs": [],
   "source": [
    "pwi.name = \"pwi\"\n",
    "pwi"
   ]
  },
  {
   "cell_type": "markdown",
   "id": "655b2fa9",
   "metadata": {},
   "source": [
    "__Cross-Check with DJI Data__"
   ]
  },
  {
   "cell_type": "code",
   "execution_count": null,
   "id": "5e47d181",
   "metadata": {},
   "outputs": [],
   "source": [
    "dji_norm = close[\"^DJI\"].div(close[\"^DJI\"][0]).mul(100)\n",
    "dji_norm"
   ]
  },
  {
   "cell_type": "code",
   "execution_count": null,
   "id": "7237cb34",
   "metadata": {},
   "outputs": [],
   "source": [
    "pwi.plot(figsize = (12, 8))\n",
    "dji_norm.plot()\n",
    "plt.legend()\n",
    "plt.show()"
   ]
  },
  {
   "cell_type": "code",
   "execution_count": null,
   "id": "0de67772",
   "metadata": {},
   "outputs": [],
   "source": []
  },
  {
   "cell_type": "markdown",
   "id": "7873b341",
   "metadata": {},
   "source": [
    "__Weights over time__"
   ]
  },
  {
   "cell_type": "code",
   "execution_count": null,
   "id": "4f148048",
   "metadata": {
    "scrolled": false
   },
   "outputs": [],
   "source": [
    "weights_PWI = close[const].div(close[const].sum(axis = 1), axis = \"rows\")\n",
    "weights_PWI "
   ]
  },
  {
   "cell_type": "code",
   "execution_count": null,
   "id": "9ea0d016",
   "metadata": {},
   "outputs": [],
   "source": [
    "weights_PWI.plot(figsize = (15, 8), fontsize = 13)\n",
    "plt.title(\"PWI - Weights\", fontsize = 15)\n",
    "plt.legend(fontsize = 13)\n",
    "plt.show()"
   ]
  },
  {
   "cell_type": "code",
   "execution_count": null,
   "id": "1c8b5898",
   "metadata": {},
   "outputs": [],
   "source": [
    "weights_PWI[[\"AAPL\", \"MSFT\"]].plot(figsize = (15, 8), fontsize = 13)\n",
    "plt.title(\"PWI - Weights\", fontsize = 15)\n",
    "plt.legend(fontsize = 13)\n",
    "plt.show()"
   ]
  },
  {
   "cell_type": "code",
   "execution_count": null,
   "id": "cda73581",
   "metadata": {},
   "outputs": [],
   "source": []
  },
  {
   "cell_type": "markdown",
   "id": "dc75c517",
   "metadata": {},
   "source": [
    "## Building an Equal-weighted Index"
   ]
  },
  {
   "cell_type": "code",
   "execution_count": null,
   "id": "41341271",
   "metadata": {},
   "outputs": [],
   "source": [
    "returns"
   ]
  },
  {
   "cell_type": "code",
   "execution_count": null,
   "id": "0dc9f202",
   "metadata": {},
   "outputs": [],
   "source": [
    "mean_ret = returns[const].mean(axis = 1)\n",
    "mean_ret"
   ]
  },
  {
   "cell_type": "code",
   "execution_count": null,
   "id": "0b42a0d9",
   "metadata": {},
   "outputs": [],
   "source": [
    "ewi = mean_ret.add(1).cumprod().mul(100)\n",
    "ewi"
   ]
  },
  {
   "cell_type": "code",
   "execution_count": null,
   "id": "6208b33c",
   "metadata": {},
   "outputs": [],
   "source": [
    "ewi[0] = 100"
   ]
  },
  {
   "cell_type": "code",
   "execution_count": null,
   "id": "2ab7fb3b",
   "metadata": {},
   "outputs": [],
   "source": [
    "ewi.name = \"ewi\"\n",
    "ewi"
   ]
  },
  {
   "cell_type": "code",
   "execution_count": null,
   "id": "b35d7653",
   "metadata": {},
   "outputs": [],
   "source": []
  },
  {
   "cell_type": "markdown",
   "id": "435510c6",
   "metadata": {},
   "source": [
    "## Building a Value-weighted Index (Part 1)"
   ]
  },
  {
   "cell_type": "markdown",
   "id": "bbe36644",
   "metadata": {},
   "source": [
    "__Historical Market Caps__"
   ]
  },
  {
   "cell_type": "markdown",
   "id": "845d3400",
   "metadata": {},
   "source": [
    "- Hard to get from free Web Soruces\n",
    "- Still, we can calculate an approximation with yahoo finance data\n",
    "- Course might cover a paid data source with historical market caps"
   ]
  },
  {
   "cell_type": "code",
   "execution_count": null,
   "id": "855890ac",
   "metadata": {},
   "outputs": [],
   "source": [
    "import yfinance as yf\n",
    "from yahooquery import Ticker"
   ]
  },
  {
   "cell_type": "code",
   "execution_count": null,
   "id": "45fa1790",
   "metadata": {},
   "outputs": [],
   "source": [
    "const"
   ]
  },
  {
   "cell_type": "code",
   "execution_count": null,
   "id": "2c880318",
   "metadata": {},
   "outputs": [],
   "source": [
    "ticker = yf.Ticker(ticker = \"AAPL\") #yfinance\n",
    "ticker"
   ]
  },
  {
   "cell_type": "code",
   "execution_count": null,
   "id": "89150fdb",
   "metadata": {},
   "outputs": [],
   "source": [
    "info = pd.Series(ticker.get_info()) # yfinance\n",
    "info"
   ]
  },
  {
   "cell_type": "code",
   "execution_count": null,
   "id": "d44fab11",
   "metadata": {},
   "outputs": [],
   "source": [
    "shares = info[\"sharesOutstanding\"] #yfinance\n",
    "shares"
   ]
  },
  {
   "cell_type": "code",
   "execution_count": null,
   "id": "eed2bc60",
   "metadata": {},
   "outputs": [],
   "source": [
    "shares = Ticker(\"AAPL\").key_stats[\"AAPL\"][\"sharesOutstanding\"] #yahooquery\n",
    "shares"
   ]
  },
  {
   "cell_type": "code",
   "execution_count": null,
   "id": "f11da856",
   "metadata": {},
   "outputs": [],
   "source": [
    "mcap = close.AAPL * shares\n",
    "mcap"
   ]
  },
  {
   "cell_type": "markdown",
   "id": "65c09162",
   "metadata": {},
   "source": [
    "(Simplified) Assumption: __Outstanding Shares remained constant__ in the most recent time period (no new share issues or buy-backs)"
   ]
  },
  {
   "cell_type": "code",
   "execution_count": null,
   "id": "9ca76745",
   "metadata": {},
   "outputs": [],
   "source": [
    "mcap = close[const].copy() # dummy df to insert mcaps\n",
    "mcap"
   ]
  },
  {
   "cell_type": "code",
   "execution_count": null,
   "id": "584e1051",
   "metadata": {},
   "outputs": [],
   "source": [
    "# yfinance\n",
    "count = 1\n",
    "for symbol in const:\n",
    "    try:\n",
    "        shares = yf.Ticker(ticker = symbol).get_info()[\"sharesOutstanding\"]\n",
    "        mcap[symbol] = mcap[symbol] * shares\n",
    "        print(count, end = '\\r')\n",
    "        count += 1\n",
    "    except Exception as e:\n",
    "        print(\"{} not found\".format(symbol))\n",
    "print(\"Download complete.\")"
   ]
  },
  {
   "cell_type": "code",
   "execution_count": null,
   "id": "95997213",
   "metadata": {},
   "outputs": [],
   "source": [
    "# yahooquery\n",
    "count = 1\n",
    "for symbol in const:\n",
    "    try:\n",
    "        shares = Ticker(symbols = symbol).key_stats[symbol][\"sharesOutstanding\"]\n",
    "        mcap[symbol] = mcap[symbol] * shares\n",
    "        print(count, end = '\\r')\n",
    "        count += 1\n",
    "    except Exception as e:\n",
    "        print(\"{} not found\".format(symbol))\n",
    "print(\"Download complete.\")"
   ]
  },
  {
   "cell_type": "code",
   "execution_count": null,
   "id": "b051f2ee",
   "metadata": {},
   "outputs": [],
   "source": [
    "mcap.iloc[-1].sort_values(ascending = False)"
   ]
  },
  {
   "cell_type": "code",
   "execution_count": null,
   "id": "2787a057",
   "metadata": {},
   "outputs": [],
   "source": [
    "plt.figure(figsize = (12, 8))\n",
    "mcap.iloc[-1].sort_values().plot.pie()\n",
    "plt.show()"
   ]
  },
  {
   "cell_type": "code",
   "execution_count": null,
   "id": "caa8e8ba",
   "metadata": {},
   "outputs": [],
   "source": []
  },
  {
   "cell_type": "markdown",
   "id": "d10f9ce9",
   "metadata": {},
   "source": [
    "## Building a Value-weighted Index (Part 2)"
   ]
  },
  {
   "cell_type": "code",
   "execution_count": null,
   "id": "b750a563",
   "metadata": {},
   "outputs": [],
   "source": [
    "mcap"
   ]
  },
  {
   "cell_type": "code",
   "execution_count": null,
   "id": "83709b67",
   "metadata": {},
   "outputs": [],
   "source": [
    "total_mcap = mcap.sum(axis = \"columns\") # total market cap\n",
    "total_mcap"
   ]
  },
  {
   "cell_type": "code",
   "execution_count": null,
   "id": "66b24f47",
   "metadata": {},
   "outputs": [],
   "source": [
    "total_mcap.plot(figsize = (12, 8))\n",
    "plt.title(\"Total Market Cap DJIA\")\n",
    "plt.show()"
   ]
  },
  {
   "cell_type": "markdown",
   "id": "309718bc",
   "metadata": {},
   "source": [
    "__Weights over time__"
   ]
  },
  {
   "cell_type": "code",
   "execution_count": null,
   "id": "e0ef34c2",
   "metadata": {
    "scrolled": false
   },
   "outputs": [],
   "source": [
    "weights_VWI = mcap.div(total_mcap, axis = \"rows\")\n",
    "weights_VWI"
   ]
  },
  {
   "cell_type": "code",
   "execution_count": null,
   "id": "839b04be",
   "metadata": {},
   "outputs": [],
   "source": [
    "weights_VWI.sum(axis = \"columns\")"
   ]
  },
  {
   "cell_type": "code",
   "execution_count": null,
   "id": "610fd36c",
   "metadata": {},
   "outputs": [],
   "source": [
    "weights_VWI.plot(figsize = (15, 8), fontsize = 13)\n",
    "plt.title(\"PWI - Weights\", fontsize = 15)\n",
    "plt.legend(fontsize = 13)\n",
    "plt.show()"
   ]
  },
  {
   "cell_type": "code",
   "execution_count": null,
   "id": "392d093d",
   "metadata": {},
   "outputs": [],
   "source": [
    "returns # daily return"
   ]
  },
  {
   "cell_type": "code",
   "execution_count": null,
   "id": "b87f3aca",
   "metadata": {},
   "outputs": [],
   "source": [
    "weights_VWI # weights at the end of the day"
   ]
  },
  {
   "cell_type": "code",
   "execution_count": null,
   "id": "6b1e085f",
   "metadata": {},
   "outputs": [],
   "source": [
    "mcwr = returns[const].mul(weights_VWI.shift()).sum(axis = \"columns\")\n",
    "mcwr # simple returns vwi"
   ]
  },
  {
   "cell_type": "code",
   "execution_count": null,
   "id": "6ca9437c",
   "metadata": {},
   "outputs": [],
   "source": [
    "vwi = mcwr.add(1).cumprod().mul(100)\n",
    "vwi"
   ]
  },
  {
   "cell_type": "code",
   "execution_count": null,
   "id": "c2a83bb6",
   "metadata": {},
   "outputs": [],
   "source": [
    "vwi.name = \"vwi\"\n",
    "vwi"
   ]
  },
  {
   "cell_type": "code",
   "execution_count": null,
   "id": "400f3e73",
   "metadata": {},
   "outputs": [],
   "source": []
  },
  {
   "cell_type": "markdown",
   "id": "eea6b5ab",
   "metadata": {},
   "source": [
    "## Analysis and Comparison (Part 1)"
   ]
  },
  {
   "cell_type": "code",
   "execution_count": null,
   "id": "892fb451",
   "metadata": {},
   "outputs": [],
   "source": [
    "indices = pd.concat([vwi, pwi, ewi], axis = 1).iloc[:-1]\n",
    "indices"
   ]
  },
  {
   "cell_type": "code",
   "execution_count": null,
   "id": "8894b4b0",
   "metadata": {},
   "outputs": [],
   "source": [
    "indices.plot(figsize = (12, 8))\n",
    "plt.title(\"VWI vs. PWI vs. EWI\", fontsize = 15)\n",
    "plt.show()"
   ]
  },
  {
   "cell_type": "markdown",
   "id": "9e7177fc",
   "metadata": {},
   "source": [
    "__Keep in mind:__ While VWI and PWI are (mostly) __self-rebalancing__, EWI requires/assumes __daily rebalancing__! -> __Trading Costs__! "
   ]
  },
  {
   "cell_type": "code",
   "execution_count": null,
   "id": "6202024e",
   "metadata": {},
   "outputs": [],
   "source": []
  },
  {
   "cell_type": "markdown",
   "id": "a10240e2",
   "metadata": {},
   "source": [
    "## Analysis and Comparison (Part 2)"
   ]
  },
  {
   "cell_type": "code",
   "execution_count": null,
   "id": "50479aff",
   "metadata": {},
   "outputs": [],
   "source": [
    "indices"
   ]
  },
  {
   "cell_type": "code",
   "execution_count": null,
   "id": "0a31975f",
   "metadata": {},
   "outputs": [],
   "source": [
    "close"
   ]
  },
  {
   "cell_type": "code",
   "execution_count": null,
   "id": "33dda983",
   "metadata": {},
   "outputs": [],
   "source": [
    "prices_m = pd.concat([close[const], indices], axis = 1)\n",
    "prices_m"
   ]
  },
  {
   "cell_type": "code",
   "execution_count": null,
   "id": "3b251244",
   "metadata": {},
   "outputs": [],
   "source": [
    "returns_m = prices_m.pct_change().dropna() # simple returns\n",
    "returns_m"
   ]
  },
  {
   "cell_type": "code",
   "execution_count": null,
   "id": "01fc2d8e",
   "metadata": {},
   "outputs": [],
   "source": [
    "def ann_risk_return(returns_df): # assumes simple returns as input\n",
    "    summary = pd.DataFrame(index = returns_df.columns)\n",
    "    summary[\"ann. Risk\"] = returns_df.std() * np.sqrt(252)\n",
    "    log_returns = np.log(returns_df + 1)\n",
    "    summary[\"CAGR\"] = np.exp(log_returns.mean() * 252) - 1\n",
    "    return summary"
   ]
  },
  {
   "cell_type": "code",
   "execution_count": null,
   "id": "f147fe98",
   "metadata": {},
   "outputs": [],
   "source": [
    "summary = ann_risk_return(returns_m)\n",
    "summary"
   ]
  },
  {
   "cell_type": "code",
   "execution_count": null,
   "id": "43a3085f",
   "metadata": {},
   "outputs": [],
   "source": [
    "summary.plot(kind = \"scatter\", x = \"ann. Risk\", y = \"CAGR\", figsize = (15,12), s = 50, fontsize = 15)\n",
    "for i in summary.index:\n",
    "    plt.annotate(i, xy=(summary.loc[i, \"ann. Risk\"]+0.005, summary.loc[i, \"CAGR\"]+0.005), size = 10)\n",
    "plt.grid()\n",
    "plt.xlabel(\"ann. Risk (std)\", fontsize = 15)\n",
    "plt.ylabel(\"CAGR\", fontsize = 15)\n",
    "plt.title(\"Risk-Return Analysis\", fontsize = 20)\n",
    "plt.show()"
   ]
  },
  {
   "cell_type": "markdown",
   "id": "3c5e9cfc",
   "metadata": {},
   "source": [
    "- All three Indexes benefit from the __Portfolio Diversification Effect__!\n",
    "- __Concentrated Positions__ negatively affect __VWI__\n",
    "- PWI and EWI are closely together (before Trading Costs)\n",
    "- But: EWI requires __daily rebalancing__! (Trading Costs)"
   ]
  },
  {
   "cell_type": "code",
   "execution_count": null,
   "id": "4f757f42",
   "metadata": {},
   "outputs": [],
   "source": []
  },
  {
   "cell_type": "markdown",
   "id": "72597ade",
   "metadata": {},
   "source": [
    "## The DJIA Total Return Index"
   ]
  },
  {
   "cell_type": "code",
   "execution_count": null,
   "id": "ec087210",
   "metadata": {},
   "outputs": [],
   "source": [
    "weights_PWI # based on Close Prices"
   ]
  },
  {
   "cell_type": "code",
   "execution_count": null,
   "id": "360fc3c4",
   "metadata": {},
   "outputs": [],
   "source": [
    "total_returns = df[\"Adj Close\"].pct_change() # Adj Close Prices!\n",
    "total_returns"
   ]
  },
  {
   "cell_type": "code",
   "execution_count": null,
   "id": "7b831494",
   "metadata": {},
   "outputs": [],
   "source": [
    "returns_tr = total_returns[const].mul(weights_PWI.shift()).sum(axis = \"columns\")\n",
    "returns_tr # simple returns DJI Total Return Index"
   ]
  },
  {
   "cell_type": "code",
   "execution_count": null,
   "id": "f02be84c",
   "metadata": {},
   "outputs": [],
   "source": [
    "dji_tr = returns_tr.add(1).cumprod().mul(100)\n",
    "dji_tr"
   ]
  },
  {
   "cell_type": "code",
   "execution_count": null,
   "id": "32bb6a31",
   "metadata": {},
   "outputs": [],
   "source": [
    "returns_m[\"DJI_TR\"] = returns_tr\n",
    "returns_m"
   ]
  },
  {
   "cell_type": "code",
   "execution_count": null,
   "id": "d442e8c4",
   "metadata": {},
   "outputs": [],
   "source": [
    "summary = ann_risk_return(returns_m)\n",
    "summary"
   ]
  },
  {
   "cell_type": "code",
   "execution_count": null,
   "id": "75ddeed2",
   "metadata": {},
   "outputs": [],
   "source": [
    "summary.plot(kind = \"scatter\", x = \"ann. Risk\", y = \"CAGR\", figsize = (15,12), s = 50, fontsize = 15)\n",
    "for i in summary.index:\n",
    "    plt.annotate(i, xy=(summary.loc[i, \"ann. Risk\"]+0.005, summary.loc[i, \"CAGR\"]+0.005), size = 10)\n",
    "plt.grid()\n",
    "plt.xlabel(\"ann. Risk (std)\", fontsize = 15)\n",
    "plt.ylabel(\"CAGR\", fontsize = 15)\n",
    "plt.title(\"Risk-Return Analysis\", fontsize = 20)\n",
    "plt.show()"
   ]
  },
  {
   "cell_type": "code",
   "execution_count": null,
   "id": "f8c0099c",
   "metadata": {},
   "outputs": [],
   "source": []
  }
 ],
 "metadata": {
  "kernelspec": {
   "display_name": "Python 3 (ipykernel)",
   "language": "python",
   "name": "python3"
  },
  "language_info": {
   "codemirror_mode": {
    "name": "ipython",
    "version": 3
   },
   "file_extension": ".py",
   "mimetype": "text/x-python",
   "name": "python",
   "nbconvert_exporter": "python",
   "pygments_lexer": "ipython3",
   "version": "3.9.13"
  }
 },
 "nbformat": 4,
 "nbformat_minor": 5
}

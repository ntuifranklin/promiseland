{
 "cells": [
  {
   "cell_type": "markdown",
   "id": "47def4bd",
   "metadata": {},
   "source": [
    "## Keystone Project - Portfolio Optimization, CAPM & Black-Litterman"
   ]
  },
  {
   "cell_type": "markdown",
   "id": "96a838af",
   "metadata": {},
   "source": [
    "__Assignment / Goal:__"
   ]
  },
  {
   "cell_type": "markdown",
   "id": "edc7e14f",
   "metadata": {},
   "source": [
    "You want to invest in a (optimized) Portfolio consisting of the 30 Dow Jones Stocks. "
   ]
  },
  {
   "cell_type": "markdown",
   "id": "6d0abfc3",
   "metadata": {},
   "source": [
    "1. Get all 30 Dow Jones Constituents from the Web (e.g.  \"https://en.wikipedia.org/wiki/Dow_Jones_Industrial_Average\")"
   ]
  },
  {
   "cell_type": "markdown",
   "id": "beb1db70",
   "metadata": {},
   "source": [
    "2. Get daily prices (last 3Y) and Market Cap from Yahoo Finance and prepare daily returns and the covariance matrix. Get prices/returns for the Market Portfolio (S&P 500 - \"^GSPC\") as well. "
   ]
  },
  {
   "cell_type": "markdown",
   "id": "c7f382bf",
   "metadata": {},
   "source": [
    "3. Calculate beta (3Y monthly) and identify all cyclical (beta > 1) and defensive (beta < 1) stocks. "
   ]
  },
  {
   "cell_type": "markdown",
   "id": "e7cf1105",
   "metadata": {},
   "source": [
    "4. Calculate CAPM returns for all stocks. For the risk-free Asset, use the 13 Week US Treasury Bill (\"^IRX\"). For the expected Market Return, analyze two different scenarios:\n",
    "- Bull Market (10%)\n",
    "- Bear Market (0%)"
   ]
  },
  {
   "cell_type": "markdown",
   "id": "8f0d1f78",
   "metadata": {},
   "source": [
    "5. Use CAPM returns (see 4.) for Portfolio Optimization (maximize Sharpe Ratio). Optimization Bounds: All Stocks shall have a minimum weight of 1% and a maximum weight of 25%!"
   ]
  },
  {
   "cell_type": "markdown",
   "id": "77a23c3b",
   "metadata": {},
   "source": [
    "6. Calculate and interpret the weighted average portfolio beta in\n",
    "- Bull Market scenario (10%)\n",
    "- Bear Market scenario (0%)"
   ]
  },
  {
   "cell_type": "markdown",
   "id": "99b5be73",
   "metadata": {},
   "source": [
    "7. Calculate implied stock returns with Reverse Optimization (assume 10% market return) and compare with CAPM returns."
   ]
  },
  {
   "cell_type": "markdown",
   "id": "307b1e6a",
   "metadata": {},
   "source": [
    "8. Add your own views and run a Black-Litterman Optimization. "
   ]
  },
  {
   "cell_type": "code",
   "execution_count": null,
   "id": "3117bc9e",
   "metadata": {},
   "outputs": [],
   "source": []
  },
  {
   "cell_type": "markdown",
   "id": "e39a968c",
   "metadata": {},
   "source": [
    "# --------------------SOLUTION------------------------------"
   ]
  },
  {
   "cell_type": "code",
   "execution_count": null,
   "id": "ca7db5df",
   "metadata": {},
   "outputs": [],
   "source": []
  },
  {
   "cell_type": "code",
   "execution_count": null,
   "id": "2fc5d3cc",
   "metadata": {},
   "outputs": [],
   "source": []
  },
  {
   "cell_type": "markdown",
   "id": "c25779c9",
   "metadata": {},
   "source": [
    "## Getting started"
   ]
  },
  {
   "cell_type": "code",
   "execution_count": null,
   "id": "a57b5be2",
   "metadata": {},
   "outputs": [],
   "source": [
    "import pandas as pd\n",
    "import numpy as np\n",
    "import yfinance as yf\n",
    "import matplotlib.pyplot as plt\n",
    "#pd.options.display.float_format = '{:.2f}'.format\n",
    "plt.style.use(\"seaborn-v0_8\")"
   ]
  },
  {
   "cell_type": "code",
   "execution_count": null,
   "id": "e6b9388f",
   "metadata": {},
   "outputs": [],
   "source": [
    "url = \"https://en.wikipedia.org/wiki/Dow_Jones_Industrial_Average\""
   ]
  },
  {
   "cell_type": "code",
   "execution_count": null,
   "id": "c5aa2d94",
   "metadata": {},
   "outputs": [],
   "source": [
    "df = pd.read_html(url)[1]\n",
    "df"
   ]
  },
  {
   "cell_type": "code",
   "execution_count": null,
   "id": "55ea280b",
   "metadata": {},
   "outputs": [],
   "source": [
    "df = df[[\"Company\", \"Symbol\", \"Industry\"]].copy()\n",
    "df"
   ]
  },
  {
   "cell_type": "code",
   "execution_count": null,
   "id": "587a5d57",
   "metadata": {},
   "outputs": [],
   "source": [
    "df.set_index(\"Symbol\", inplace = True)\n",
    "df"
   ]
  },
  {
   "cell_type": "code",
   "execution_count": null,
   "id": "64e6ebe1",
   "metadata": {},
   "outputs": [],
   "source": [
    "symbols = df.index.to_list()\n",
    "symbols"
   ]
  },
  {
   "cell_type": "code",
   "execution_count": null,
   "id": "f42ea9fb",
   "metadata": {},
   "outputs": [],
   "source": [
    "index = \"^GSPC\""
   ]
  },
  {
   "cell_type": "code",
   "execution_count": null,
   "id": "507dbb86",
   "metadata": {},
   "outputs": [],
   "source": [
    "symbols.append(index)\n",
    "symbols"
   ]
  },
  {
   "cell_type": "code",
   "execution_count": null,
   "id": "66d21033",
   "metadata": {
    "scrolled": false
   },
   "outputs": [],
   "source": [
    "prices = yf.download(symbols, period = \"3y\", interval = \"1d\")\n",
    "prices"
   ]
  },
  {
   "cell_type": "code",
   "execution_count": null,
   "id": "9a7f284c",
   "metadata": {},
   "outputs": [],
   "source": [
    "returns = prices[\"Close\"].pct_change()\n",
    "returns"
   ]
  },
  {
   "cell_type": "code",
   "execution_count": null,
   "id": "b2b57f5b",
   "metadata": {},
   "outputs": [],
   "source": [
    "cov_matrix = returns[df.index].cov() * 252\n",
    "cov_matrix"
   ]
  },
  {
   "cell_type": "code",
   "execution_count": null,
   "id": "57496499",
   "metadata": {},
   "outputs": [],
   "source": [
    "count = 0\n",
    "for ticker in df.index:\n",
    "    count += 1\n",
    "    print(count, end = '\\r')\n",
    "    try:\n",
    "        #info = yf.Ticker(ticker).get_info()\n",
    "        #df.loc[ticker, \"beta\"] = info[\"beta\"]\n",
    "        fast_info = yf.Ticker(ticker).fast_info\n",
    "        df.loc[ticker, \"mcap\"] = fast_info[\"market_cap\"]\n",
    "    except Exception as e:\n",
    "        print(ticker, e)"
   ]
  },
  {
   "cell_type": "code",
   "execution_count": null,
   "id": "5d1c6b19",
   "metadata": {},
   "outputs": [],
   "source": [
    "df"
   ]
  },
  {
   "cell_type": "code",
   "execution_count": null,
   "id": "700b0a13",
   "metadata": {},
   "outputs": [],
   "source": []
  },
  {
   "cell_type": "markdown",
   "id": "5fe9ae80",
   "metadata": {},
   "source": [
    "## Cyclical Stocks vs. Defensive Stocks"
   ]
  },
  {
   "cell_type": "code",
   "execution_count": null,
   "id": "96407b98",
   "metadata": {},
   "outputs": [],
   "source": [
    "returns_m = prices.Close.resample(\"M\").last().pct_change() # monthly returns\n",
    "returns_m"
   ]
  },
  {
   "cell_type": "code",
   "execution_count": null,
   "id": "d74fa2c3",
   "metadata": {},
   "outputs": [],
   "source": [
    "df[\"beta\"] = returns_m.cov()[\"^GSPC\"] / returns_m[\"^GSPC\"].var() # 3Y monthly beta\n",
    "df"
   ]
  },
  {
   "cell_type": "markdown",
   "id": "37937e4b",
   "metadata": {},
   "source": [
    "__Cyclical Stocks__"
   ]
  },
  {
   "cell_type": "code",
   "execution_count": null,
   "id": "2483690f",
   "metadata": {},
   "outputs": [],
   "source": [
    "df.loc[df.beta > 1].sort_values(by = \"beta\", ascending = False)"
   ]
  },
  {
   "cell_type": "markdown",
   "id": "892db51f",
   "metadata": {},
   "source": [
    "__Defensive Stocks__"
   ]
  },
  {
   "cell_type": "code",
   "execution_count": null,
   "id": "d8f175c0",
   "metadata": {},
   "outputs": [],
   "source": [
    "df.loc[df.beta < 1].sort_values(by = \"beta\", ascending = True)"
   ]
  },
  {
   "cell_type": "code",
   "execution_count": null,
   "id": "dad0562b",
   "metadata": {},
   "outputs": [],
   "source": []
  },
  {
   "cell_type": "markdown",
   "id": "55491857",
   "metadata": {},
   "source": [
    "## CAPM Returns and Portfolio Optimization"
   ]
  },
  {
   "cell_type": "code",
   "execution_count": null,
   "id": "891f9f31",
   "metadata": {},
   "outputs": [],
   "source": [
    "df"
   ]
  },
  {
   "cell_type": "markdown",
   "id": "8caf1e79",
   "metadata": {},
   "source": [
    "__Risk-free Rate__"
   ]
  },
  {
   "cell_type": "code",
   "execution_count": null,
   "id": "0663c066",
   "metadata": {},
   "outputs": [],
   "source": [
    "rfr = yf.download(tickers = \"^IRX\").Close.dropna().iloc[-1] / 100 #13 Week US Treasury Bill\n",
    "rfr"
   ]
  },
  {
   "cell_type": "markdown",
   "id": "bcb67305",
   "metadata": {},
   "source": [
    "__Market Return Forecast (bullish)__"
   ]
  },
  {
   "cell_type": "code",
   "execution_count": null,
   "id": "cb7ec0ab",
   "metadata": {},
   "outputs": [],
   "source": [
    "rm = 0.10"
   ]
  },
  {
   "cell_type": "markdown",
   "id": "9e0c855b",
   "metadata": {},
   "source": [
    "__Market Return Forecast (bearish)__"
   ]
  },
  {
   "cell_type": "code",
   "execution_count": null,
   "id": "167e78cf",
   "metadata": {},
   "outputs": [],
   "source": [
    "# rm = 0.00"
   ]
  },
  {
   "cell_type": "code",
   "execution_count": null,
   "id": "b2b6c9a4",
   "metadata": {},
   "outputs": [],
   "source": [
    "df[\"CAPM_ret\"] = rfr + (rm - rfr) * df.beta\n",
    "df"
   ]
  },
  {
   "cell_type": "code",
   "execution_count": null,
   "id": "3ec3f580",
   "metadata": {},
   "outputs": [],
   "source": [
    "def port_ret(weights):\n",
    "    ret = df.CAPM_ret.dot(weights)\n",
    "    return ret"
   ]
  },
  {
   "cell_type": "code",
   "execution_count": null,
   "id": "604a4375",
   "metadata": {},
   "outputs": [],
   "source": [
    "def port_vol(weights):\n",
    "    risk = np.sqrt(weights.dot(cov_matrix).dot(weights))\n",
    "    return risk"
   ]
  },
  {
   "cell_type": "code",
   "execution_count": null,
   "id": "3ed5d1bb",
   "metadata": {},
   "outputs": [],
   "source": [
    "def sharpe(weights): \n",
    "     return -(port_ret(weights)-rfr) / port_vol(weights) "
   ]
  },
  {
   "cell_type": "code",
   "execution_count": null,
   "id": "51bc1501",
   "metadata": {},
   "outputs": [],
   "source": [
    "import scipy.optimize as sco"
   ]
  },
  {
   "cell_type": "code",
   "execution_count": null,
   "id": "38967932",
   "metadata": {},
   "outputs": [],
   "source": [
    "noa = len(df)\n",
    "noa"
   ]
  },
  {
   "cell_type": "code",
   "execution_count": null,
   "id": "662d36ad",
   "metadata": {},
   "outputs": [],
   "source": [
    "eweigths = np.full(noa, 1/noa)\n",
    "eweigths"
   ]
  },
  {
   "cell_type": "code",
   "execution_count": null,
   "id": "45967b1c",
   "metadata": {},
   "outputs": [],
   "source": [
    "#constraint: weights must sum up to 1 -> sum of weights - 1 = 0\n",
    "cons = ({\"type\": \"eq\", \"fun\": lambda x: np.sum(x) - 1})"
   ]
  },
  {
   "cell_type": "code",
   "execution_count": null,
   "id": "8888785c",
   "metadata": {},
   "outputs": [],
   "source": [
    "bnds =  tuple((0.01, 0.25) for x in range(noa))\n",
    "bnds"
   ]
  },
  {
   "cell_type": "code",
   "execution_count": null,
   "id": "af6f3e67",
   "metadata": {},
   "outputs": [],
   "source": [
    "opts = sco.minimize(sharpe, eweigths, method = \"SLSQP\", bounds = bnds, constraints= cons)"
   ]
  },
  {
   "cell_type": "code",
   "execution_count": null,
   "id": "be27c54e",
   "metadata": {},
   "outputs": [],
   "source": [
    "optimal_weights = opts[\"x\"]\n",
    "optimal_weights"
   ]
  },
  {
   "cell_type": "code",
   "execution_count": null,
   "id": "c3887acc",
   "metadata": {},
   "outputs": [],
   "source": [
    "df[\"CAPM_weights\"] = pd.Series(data = optimal_weights, index = df.index)"
   ]
  },
  {
   "cell_type": "code",
   "execution_count": null,
   "id": "6486b4ff",
   "metadata": {},
   "outputs": [],
   "source": [
    "df.sort_values(by = \"CAPM_weights\", ascending = False)"
   ]
  },
  {
   "cell_type": "code",
   "execution_count": null,
   "id": "8ba2a0c0",
   "metadata": {},
   "outputs": [],
   "source": [
    "weighted_average_beta = df.beta.mul(df.CAPM_weights).sum()\n",
    "weighted_average_beta"
   ]
  },
  {
   "cell_type": "markdown",
   "id": "d334ebf6",
   "metadata": {},
   "source": [
    "- __Expected Bull Market: High Beta Portfolio__\n",
    "- __Expected Bear Market: Low Beta Portfolio__"
   ]
  },
  {
   "cell_type": "code",
   "execution_count": null,
   "id": "1520999d",
   "metadata": {},
   "outputs": [],
   "source": []
  },
  {
   "cell_type": "markdown",
   "id": "b90da405",
   "metadata": {},
   "source": [
    "## Reverse Optimization (Black-Litterman)"
   ]
  },
  {
   "cell_type": "code",
   "execution_count": null,
   "id": "8d6381e0",
   "metadata": {},
   "outputs": [],
   "source": [
    "df"
   ]
  },
  {
   "cell_type": "code",
   "execution_count": null,
   "id": "49197656",
   "metadata": {},
   "outputs": [],
   "source": [
    "cov_matrix"
   ]
  },
  {
   "cell_type": "code",
   "execution_count": null,
   "id": "75a9bd74",
   "metadata": {},
   "outputs": [],
   "source": [
    "df[\"mcap_weights\"] = df.mcap.div(df.mcap.sum())\n",
    "df"
   ]
  },
  {
   "cell_type": "code",
   "execution_count": null,
   "id": "fa226633",
   "metadata": {},
   "outputs": [],
   "source": [
    "rm = 0.1"
   ]
  },
  {
   "cell_type": "code",
   "execution_count": null,
   "id": "c59323b4",
   "metadata": {},
   "outputs": [],
   "source": [
    "# normalization factor\n",
    "nf = (rm - rfr) / (df.mcap_weights.T.dot(cov_matrix).dot(df.mcap_weights))\n",
    "nf"
   ]
  },
  {
   "cell_type": "code",
   "execution_count": null,
   "id": "8c82d0ee",
   "metadata": {},
   "outputs": [],
   "source": [
    "# implied returns (Black-Litterman)\n",
    "df[\"BL_returns\"] = cov_matrix.dot(df.mcap_weights) * nf + rfr\n",
    "df"
   ]
  },
  {
   "cell_type": "code",
   "execution_count": null,
   "id": "1364a3e9",
   "metadata": {},
   "outputs": [],
   "source": [
    "# CAPM Returns & BL Returns are implied returns (market expectations)\n",
    "df[\"blended_returns\"] = (df.CAPM_ret + df.BL_returns) / 2\n",
    "df"
   ]
  },
  {
   "cell_type": "code",
   "execution_count": null,
   "id": "c9644132",
   "metadata": {},
   "outputs": [],
   "source": [
    "# investor opinions\n",
    "df[\"returns_final\"] = df[\"blended_returns\"].copy()\n",
    "df.loc[\"IBM\", \"returns_final\"] = df.loc[\"IBM\", \"blended_returns\"] + 0.03\n",
    "df.loc[\"NKE\", \"returns_final\"] = df.loc[\"NKE\", \"blended_returns\"] + 0.02\n",
    "df.loc[\"INTC\", \"returns_final\"] = df.loc[\"INTC\", \"blended_returns\"] - 0.03\n",
    "df.loc[\"MCD\", \"returns_final\"] = df.loc[\"MCD\", \"blended_returns\"] - 0.02"
   ]
  },
  {
   "cell_type": "code",
   "execution_count": null,
   "id": "c022f57c",
   "metadata": {},
   "outputs": [],
   "source": [
    "df"
   ]
  },
  {
   "cell_type": "code",
   "execution_count": null,
   "id": "d45ae043",
   "metadata": {},
   "outputs": [],
   "source": [
    "eweigths = np.full(noa, 1/noa)\n",
    "eweigths"
   ]
  },
  {
   "cell_type": "code",
   "execution_count": null,
   "id": "6535fe8b",
   "metadata": {},
   "outputs": [],
   "source": [
    "bnds =  tuple((0.01, 0.25) for x in range(noa))\n",
    "bnds"
   ]
  },
  {
   "cell_type": "code",
   "execution_count": null,
   "id": "1f9b5ebe",
   "metadata": {},
   "outputs": [],
   "source": [
    "def port_ret(weights):\n",
    "    ret = df.returns_final.dot(weights)\n",
    "    return ret"
   ]
  },
  {
   "cell_type": "code",
   "execution_count": null,
   "id": "2ad7c9e4",
   "metadata": {},
   "outputs": [],
   "source": [
    "opts = sco.minimize(sharpe, eweigths, method = \"SLSQP\", bounds = bnds, constraints= cons)"
   ]
  },
  {
   "cell_type": "code",
   "execution_count": null,
   "id": "bf769846",
   "metadata": {},
   "outputs": [],
   "source": [
    "optimal_weights = opts[\"x\"]\n",
    "optimal_weights"
   ]
  },
  {
   "cell_type": "code",
   "execution_count": null,
   "id": "5486a237",
   "metadata": {},
   "outputs": [],
   "source": [
    "df[\"final_weights\"] = pd.Series(data = optimal_weights, index = df.index)"
   ]
  },
  {
   "cell_type": "code",
   "execution_count": null,
   "id": "4d612352",
   "metadata": {},
   "outputs": [],
   "source": [
    "df.sort_values(by = \"final_weights\", ascending = False)"
   ]
  },
  {
   "cell_type": "code",
   "execution_count": null,
   "id": "e7a92ec9",
   "metadata": {},
   "outputs": [],
   "source": []
  }
 ],
 "metadata": {
  "kernelspec": {
   "display_name": "Python 3 (ipykernel)",
   "language": "python",
   "name": "python3"
  },
  "language_info": {
   "codemirror_mode": {
    "name": "ipython",
    "version": 3
   },
   "file_extension": ".py",
   "mimetype": "text/x-python",
   "name": "python",
   "nbconvert_exporter": "python",
   "pygments_lexer": "ipython3",
   "version": "3.9.13"
  }
 },
 "nbformat": 4,
 "nbformat_minor": 5
}

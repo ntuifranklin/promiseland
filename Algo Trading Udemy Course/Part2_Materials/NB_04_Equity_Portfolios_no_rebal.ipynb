{
 "cells": [
  {
   "cell_type": "markdown",
   "id": "3dec88eb",
   "metadata": {},
   "source": [
    "# Creating & Optimizing Equity Portfolios (without rebalancing)"
   ]
  },
  {
   "cell_type": "markdown",
   "id": "c833d1fa",
   "metadata": {},
   "source": [
    "## Getting started"
   ]
  },
  {
   "cell_type": "code",
   "execution_count": null,
   "id": "dcc56de6",
   "metadata": {},
   "outputs": [],
   "source": [
    "import pandas as pd\n",
    "import numpy as np\n",
    "import matplotlib.pyplot as plt\n",
    "plt.style.use(\"seaborn-v0_8\")"
   ]
  },
  {
   "cell_type": "code",
   "execution_count": null,
   "id": "68d34ec2",
   "metadata": {},
   "outputs": [],
   "source": [
    "prices = pd.read_csv(\"stocks.csv\", index_col = \"Date\", parse_dates = [\"Date\"])\n",
    "prices"
   ]
  },
  {
   "cell_type": "code",
   "execution_count": null,
   "id": "7d8fe524",
   "metadata": {},
   "outputs": [],
   "source": [
    "returns = prices.pct_change().dropna()\n",
    "returns"
   ]
  },
  {
   "cell_type": "code",
   "execution_count": null,
   "id": "4c2cfa79",
   "metadata": {},
   "outputs": [],
   "source": [
    "returns.info()"
   ]
  },
  {
   "cell_type": "code",
   "execution_count": null,
   "id": "88183776",
   "metadata": {},
   "outputs": [],
   "source": [
    "def ann_risk_return(returns_df): # assumes simple returns as input\n",
    "    summary = pd.DataFrame(index = returns_df.columns)\n",
    "    summary[\"ann. Risk\"] = returns_df.std() * np.sqrt(252)\n",
    "    log_returns = np.log(returns_df + 1)\n",
    "    summary[\"CAGR\"] = np.exp(log_returns.mean() * 252) - 1\n",
    "    return summary"
   ]
  },
  {
   "cell_type": "code",
   "execution_count": null,
   "id": "2cd02c8b",
   "metadata": {},
   "outputs": [],
   "source": [
    "summary = ann_risk_return(returns.iloc[1:])\n",
    "summary"
   ]
  },
  {
   "cell_type": "code",
   "execution_count": null,
   "id": "1c59690c",
   "metadata": {},
   "outputs": [],
   "source": []
  },
  {
   "cell_type": "markdown",
   "id": "ac5e4d65",
   "metadata": {},
   "source": [
    "## Creating Random Portfolios (Part 1)"
   ]
  },
  {
   "cell_type": "code",
   "execution_count": null,
   "id": "7253c079",
   "metadata": {},
   "outputs": [],
   "source": [
    "returns"
   ]
  },
  {
   "cell_type": "code",
   "execution_count": null,
   "id": "bba88209",
   "metadata": {},
   "outputs": [],
   "source": [
    "noa = len(returns.columns) # number of assets\n",
    "noa"
   ]
  },
  {
   "cell_type": "code",
   "execution_count": null,
   "id": "fb48ba70",
   "metadata": {},
   "outputs": [],
   "source": [
    "nop = 10000 # number of random portfolios\n",
    "nop"
   ]
  },
  {
   "cell_type": "code",
   "execution_count": null,
   "id": "303842ff",
   "metadata": {},
   "outputs": [],
   "source": [
    "# 80,000 random floats between 0 and 1\n",
    "np.random.seed(123)\n",
    "matrix = np.random.random(noa * nop).reshape(nop, noa)"
   ]
  },
  {
   "cell_type": "code",
   "execution_count": null,
   "id": "1c90ff7b",
   "metadata": {},
   "outputs": [],
   "source": [
    "matrix"
   ]
  },
  {
   "cell_type": "code",
   "execution_count": null,
   "id": "6adedb04",
   "metadata": {},
   "outputs": [],
   "source": [
    "matrix.shape"
   ]
  },
  {
   "cell_type": "code",
   "execution_count": null,
   "id": "2ff10bc5",
   "metadata": {},
   "outputs": [],
   "source": [
    "matrix.sum(axis = 1, keepdims= True)"
   ]
  },
  {
   "cell_type": "code",
   "execution_count": null,
   "id": "01d5efb0",
   "metadata": {},
   "outputs": [],
   "source": [
    "weights = matrix / matrix.sum(axis = 1, keepdims= True) # make portfolio weights summing up to 1\n",
    "weights"
   ]
  },
  {
   "cell_type": "code",
   "execution_count": null,
   "id": "bddd31f3",
   "metadata": {},
   "outputs": [],
   "source": [
    "weights.sum(axis = 1, keepdims= True)"
   ]
  },
  {
   "cell_type": "markdown",
   "id": "19f9b479",
   "metadata": {},
   "source": [
    "__one Portfolio__"
   ]
  },
  {
   "cell_type": "code",
   "execution_count": null,
   "id": "86d2f374",
   "metadata": {},
   "outputs": [],
   "source": [
    "w1 = weights[0]\n",
    "w1"
   ]
  },
  {
   "cell_type": "markdown",
   "id": "0ec31946",
   "metadata": {},
   "source": [
    "__Weights are initial weights. No rebalancing thereafter.__"
   ]
  },
  {
   "cell_type": "code",
   "execution_count": null,
   "id": "6b7761b1",
   "metadata": {},
   "outputs": [],
   "source": [
    "returns.add(1).cumprod().mul(w1).sum(axis = 1) # weighted average investment multiple over time"
   ]
  },
  {
   "cell_type": "code",
   "execution_count": null,
   "id": "fd885c05",
   "metadata": {},
   "outputs": [],
   "source": [
    "port1 = returns.add(1).cumprod().dot(w1) # alternatively: dot product\n",
    "port1"
   ]
  },
  {
   "cell_type": "code",
   "execution_count": null,
   "id": "30a7a159",
   "metadata": {},
   "outputs": [],
   "source": [
    "initial_w = returns.add(1).cumprod().mul(w1).iloc[0]\n",
    "initial_w"
   ]
  },
  {
   "cell_type": "code",
   "execution_count": null,
   "id": "3d2b6502",
   "metadata": {},
   "outputs": [],
   "source": [
    "final_w = returns.add(1).cumprod().mul(w1).iloc[-1]\n",
    "final_w / final_w.sum()"
   ]
  },
  {
   "cell_type": "markdown",
   "id": "887a952b",
   "metadata": {},
   "source": [
    "-> __no active rebalancing__! __Weights deviate__ from initial/target weights as prices move. <br>\n",
    "-> weights of __outperforming__ (underperforming) Stocks __increase__ (decrease) over time. (__Momentum Trading Strategy__)\n"
   ]
  },
  {
   "cell_type": "code",
   "execution_count": null,
   "id": "d415901b",
   "metadata": {},
   "outputs": [],
   "source": [
    "ann_risk_return((port1 / port1.shift() - 1).to_frame())"
   ]
  },
  {
   "cell_type": "code",
   "execution_count": null,
   "id": "37231c3a",
   "metadata": {},
   "outputs": [],
   "source": []
  },
  {
   "cell_type": "markdown",
   "id": "c2537de6",
   "metadata": {},
   "source": [
    "## Creating Random Portfolios (Part 2)"
   ]
  },
  {
   "cell_type": "markdown",
   "id": "28ac759e",
   "metadata": {},
   "source": [
    "__many Portfolios__"
   ]
  },
  {
   "cell_type": "code",
   "execution_count": null,
   "id": "0649b723",
   "metadata": {},
   "outputs": [],
   "source": [
    "weights"
   ]
  },
  {
   "cell_type": "code",
   "execution_count": null,
   "id": "86f6c44e",
   "metadata": {},
   "outputs": [],
   "source": [
    "ports = returns.add(1).cumprod().dot(weights.T)\n",
    "ports # normalized prices for 10,000 portfolios"
   ]
  },
  {
   "cell_type": "code",
   "execution_count": null,
   "id": "5940a987",
   "metadata": {},
   "outputs": [],
   "source": [
    "port_ret = ports.pct_change().dropna()\n",
    "port_ret # simple returns"
   ]
  },
  {
   "cell_type": "code",
   "execution_count": null,
   "id": "dfd2644f",
   "metadata": {},
   "outputs": [],
   "source": [
    "port_summary = ann_risk_return(port_ret)\n",
    "port_summary"
   ]
  },
  {
   "cell_type": "code",
   "execution_count": null,
   "id": "9626d4c9",
   "metadata": {},
   "outputs": [],
   "source": [
    "summary"
   ]
  },
  {
   "cell_type": "code",
   "execution_count": null,
   "id": "1acfab74",
   "metadata": {},
   "outputs": [],
   "source": [
    "plt.figure(figsize = (15, 9))\n",
    "plt.scatter(port_summary.loc[:, \"ann. Risk\"], port_summary.loc[:, \"CAGR\"],s= 20, color = \"red\")\n",
    "plt.scatter(summary.loc[:, \"ann. Risk\"], summary.loc[:, \"CAGR\"], s= 50, color = \"black\", marker = \"D\")\n",
    "for i in summary.index:\n",
    "    plt.annotate(i, xy=(summary.loc[i, \"ann. Risk\"]+0.01, summary.loc[i, \"CAGR\"]+0.01), size = 15)\n",
    "plt.xlabel(\"ann. Risk (std)\", fontsize = 15)\n",
    "plt.ylabel(\"CAGR\", fontsize = 15)\n",
    "plt.title(\"Risk/Return\", fontsize = 20)\n",
    "plt.show()"
   ]
  },
  {
   "cell_type": "code",
   "execution_count": null,
   "id": "50d24cad",
   "metadata": {},
   "outputs": [],
   "source": []
  },
  {
   "cell_type": "markdown",
   "id": "43e8584b",
   "metadata": {},
   "source": [
    "## Performance Measurement: Risk-adjusted Return"
   ]
  },
  {
   "cell_type": "markdown",
   "id": "8f3dcd53",
   "metadata": {},
   "source": [
    "__Risk-adjusted-Return (RaR): CAGR per unit of Risk. (similar to Sharpe Ratio)__"
   ]
  },
  {
   "cell_type": "code",
   "execution_count": null,
   "id": "96508313",
   "metadata": {},
   "outputs": [],
   "source": [
    "summary[\"RaR\"] = summary[\"CAGR\"].div(summary[\"ann. Risk\"])\n",
    "summary"
   ]
  },
  {
   "cell_type": "code",
   "execution_count": null,
   "id": "7123acbe",
   "metadata": {},
   "outputs": [],
   "source": [
    "port_summary[\"RaR\"] = port_summary[\"CAGR\"].div(port_summary[\"ann. Risk\"])"
   ]
  },
  {
   "cell_type": "code",
   "execution_count": null,
   "id": "a0f1f54b",
   "metadata": {},
   "outputs": [],
   "source": [
    "port_summary.sort_values(\"RaR\")"
   ]
  },
  {
   "cell_type": "code",
   "execution_count": null,
   "id": "de196d1f",
   "metadata": {},
   "outputs": [],
   "source": [
    "vmin = port_summary.RaR.min()\n",
    "vmin"
   ]
  },
  {
   "cell_type": "code",
   "execution_count": null,
   "id": "aa50d75b",
   "metadata": {},
   "outputs": [],
   "source": [
    "vmax = port_summary.RaR.max()\n",
    "vmax"
   ]
  },
  {
   "cell_type": "code",
   "execution_count": null,
   "id": "4e78ea87",
   "metadata": {},
   "outputs": [],
   "source": [
    "plt.figure(figsize = (15, 8))\n",
    "plt.scatter(port_summary.loc[:, \"ann. Risk\"], port_summary.loc[:, \"CAGR\"], s= 20, \n",
    "            c = port_summary.loc[:, \"RaR\"], cmap = \"coolwarm\", vmin = vmin, vmax = vmax, alpha = 0.66)\n",
    "plt.colorbar()\n",
    "plt.scatter(summary.loc[:, \"ann. Risk\"], summary.loc[:, \"CAGR\"],s= 50, marker = \"D\", c = \"black\")\n",
    "for i in summary.index:\n",
    "    plt.annotate(i, xy=(summary.loc[i, \"ann. Risk\"]+0.01, summary.loc[i, \"CAGR\"]+0.01), size = 15)\n",
    "plt.xlabel(\"ann. Risk (std)\", fontsize = 15)\n",
    "plt.ylabel(\"CAGR\", fontsize = 15)\n",
    "plt.title(\"Risk-adjusted Return\", fontsize = 20)\n",
    "plt.show()"
   ]
  },
  {
   "cell_type": "code",
   "execution_count": null,
   "id": "50e3f3a3",
   "metadata": {},
   "outputs": [],
   "source": []
  },
  {
   "cell_type": "markdown",
   "id": "471cd147",
   "metadata": {},
   "source": [
    "## Portfolio Optimization"
   ]
  },
  {
   "cell_type": "markdown",
   "id": "7af64c71",
   "metadata": {},
   "source": [
    "__Note: We are optimizing the past here (backward looking)!__"
   ]
  },
  {
   "cell_type": "code",
   "execution_count": null,
   "id": "d763723a",
   "metadata": {},
   "outputs": [],
   "source": [
    "import scipy.optimize as sco\n",
    "pd.options.display.float_format = '{:.4f}'.format\n",
    "np.set_printoptions(suppress = True)"
   ]
  },
  {
   "cell_type": "code",
   "execution_count": null,
   "id": "7d1ffb02",
   "metadata": {},
   "outputs": [],
   "source": [
    "returns "
   ]
  },
  {
   "cell_type": "code",
   "execution_count": null,
   "id": "1fee61e4",
   "metadata": {},
   "outputs": [],
   "source": [
    "#calculate portfolio CAGR (based on weights)\n",
    "def port_ret(weights):\n",
    "    simple_ret = returns.add(1).cumprod().dot(weights.T).pct_change()\n",
    "    log_returns = np.log(simple_ret + 1)\n",
    "    cagr = np.exp(log_returns.mean() * 252) - 1\n",
    "    return cagr"
   ]
  },
  {
   "cell_type": "code",
   "execution_count": null,
   "id": "bf327913",
   "metadata": {},
   "outputs": [],
   "source": [
    "#calculate annualized portfolio volatility (based on weights)\n",
    "def port_vol(weights):\n",
    "    simple_ret = returns.add(1).cumprod().dot(weights.T).pct_change()\n",
    "    return simple_ret.std() * np.sqrt(252)"
   ]
  },
  {
   "cell_type": "code",
   "execution_count": null,
   "id": "43913eb3",
   "metadata": {},
   "outputs": [],
   "source": [
    "#define function to be minimized (sco only supports minimize, not maximize)\n",
    "#-> maximize RaR == minimize RaR * (-1)\n",
    "def min_func_RaR(weights): \n",
    "     return -(port_ret(weights)) / port_vol(weights) #Risk-adjusted Return * (-1)"
   ]
  },
  {
   "cell_type": "code",
   "execution_count": null,
   "id": "70be4a51",
   "metadata": {},
   "outputs": [],
   "source": [
    "#number of assets\n",
    "noa = len(returns.columns)\n",
    "noa"
   ]
  },
  {
   "cell_type": "code",
   "execution_count": null,
   "id": "6626b185",
   "metadata": {},
   "outputs": [],
   "source": [
    "#equal weights (starting point of optimization)\n",
    "eweigths = np.full(noa, 1/noa)\n",
    "eweigths"
   ]
  },
  {
   "cell_type": "code",
   "execution_count": null,
   "id": "062303e5",
   "metadata": {},
   "outputs": [],
   "source": [
    "#constraint: weights must sum up to 1 -> sum of weights - 1 = 0\n",
    "cons = ({\"type\": \"eq\", \"fun\": lambda x: np.sum(x) - 1})"
   ]
  },
  {
   "cell_type": "code",
   "execution_count": null,
   "id": "10028f35",
   "metadata": {},
   "outputs": [],
   "source": [
    "#bounds: all weights shall be between 0 and 1 -> can be changed\n",
    "bnds =  tuple((0, 1) for x in range(noa))\n",
    "bnds"
   ]
  },
  {
   "cell_type": "code",
   "execution_count": null,
   "id": "f78b75ef",
   "metadata": {},
   "outputs": [],
   "source": [
    "#run optimization based on function to be minimized, starting with equal weights and based on respective bounds and constraints\n",
    "opts = sco.minimize(min_func_RaR, eweigths, method = \"SLSQP\", bounds = bnds, constraints= cons)"
   ]
  },
  {
   "cell_type": "code",
   "execution_count": null,
   "id": "d04599ba",
   "metadata": {},
   "outputs": [],
   "source": [
    "#output of optimization\n",
    "opts"
   ]
  },
  {
   "cell_type": "code",
   "execution_count": null,
   "id": "ec2c9604",
   "metadata": {
    "scrolled": true
   },
   "outputs": [],
   "source": [
    "#getting the optimal weights\n",
    "optimal_weights = opts[\"x\"]\n",
    "optimal_weights"
   ]
  },
  {
   "cell_type": "code",
   "execution_count": null,
   "id": "94a271c3",
   "metadata": {
    "scrolled": true
   },
   "outputs": [],
   "source": [
    "pd.Series(data = optimal_weights, index = returns.columns).sort_values(ascending = False).head(20)"
   ]
  },
  {
   "cell_type": "markdown",
   "id": "0de751e0",
   "metadata": {},
   "source": [
    "-> __Optimization (without bounds) does not necessarily lead to practical/factual diversification.__"
   ]
  },
  {
   "cell_type": "code",
   "execution_count": null,
   "id": "d3cae57b",
   "metadata": {},
   "outputs": [],
   "source": [
    "#cagr of the optimal portfolio\n",
    "cagr_opt = port_ret(optimal_weights)\n",
    "cagr_opt"
   ]
  },
  {
   "cell_type": "code",
   "execution_count": null,
   "id": "139c06bb",
   "metadata": {},
   "outputs": [],
   "source": [
    "#volatility of the optimal portfolio\n",
    "vol_opt = port_vol(optimal_weights)\n",
    "vol_opt"
   ]
  },
  {
   "cell_type": "code",
   "execution_count": null,
   "id": "efe127cd",
   "metadata": {},
   "outputs": [],
   "source": [
    "#RaR of the optimal portfolio\n",
    "RaR_opt = -min_func_RaR(optimal_weights)\n",
    "RaR_opt"
   ]
  },
  {
   "cell_type": "code",
   "execution_count": null,
   "id": "a6ac631c",
   "metadata": {},
   "outputs": [],
   "source": [
    "plt.figure(figsize = (15, 8))\n",
    "plt.scatter(port_summary.loc[:, \"ann. Risk\"], port_summary.loc[:, \"CAGR\"], s= 20, \n",
    "            c = port_summary.loc[:, \"RaR\"], cmap = \"coolwarm\", vmin = vmin, vmax = vmax, alpha = 0.66)\n",
    "plt.colorbar()\n",
    "plt.scatter(summary.loc[:, \"ann. Risk\"], summary.loc[:, \"CAGR\"],s= 50, marker = \"D\", c = \"black\")\n",
    "for i in summary.index:\n",
    "    plt.annotate(i, xy=(summary.loc[i, \"ann. Risk\"]+0.01, summary.loc[i, \"CAGR\"]+0.01), size = 15)\n",
    "plt.scatter(x = vol_opt, y = cagr_opt, s = 100, marker = \"X\", c = \"purple\") # best Portfolio\n",
    "plt.xlabel(\"ann. Risk (std)\", fontsize = 15)\n",
    "plt.ylabel(\"CAGR\", fontsize = 15)\n",
    "plt.title(\"The optimal Portfolio\", fontsize = 20)\n",
    "plt.show()"
   ]
  },
  {
   "cell_type": "markdown",
   "id": "9433b8c6",
   "metadata": {},
   "source": [
    "__Reminder: We are optimizing the past here (backward looking).__ <br>\n",
    "-> Very unlikely we had selected this optimal portfolio back in 2017 (__look ahead bias__)! <br>\n",
    "-> Very unlikely this will be the optimal portfolio in the future (__past performance is not a good indicator for future performance__)!"
   ]
  },
  {
   "cell_type": "code",
   "execution_count": null,
   "id": "c52e8be9",
   "metadata": {},
   "outputs": [],
   "source": []
  },
  {
   "cell_type": "markdown",
   "id": "d2fdf2c7",
   "metadata": {},
   "source": [
    "## Minimum Variance Portfolio"
   ]
  },
  {
   "cell_type": "markdown",
   "id": "c532f27c",
   "metadata": {},
   "source": [
    "(use code above with following replacements:)"
   ]
  },
  {
   "cell_type": "code",
   "execution_count": null,
   "id": "b16983fb",
   "metadata": {},
   "outputs": [],
   "source": [
    "# Minimum Variance Portfolio\n",
    "opts = sco.minimize(port_vol, eweigths, method = \"SLSQP\", bounds = bnds, constraints= cons)"
   ]
  },
  {
   "cell_type": "code",
   "execution_count": null,
   "id": "49058412",
   "metadata": {},
   "outputs": [],
   "source": []
  },
  {
   "cell_type": "markdown",
   "id": "db3d6539",
   "metadata": {},
   "source": [
    "## Maximum Return Portfolio"
   ]
  },
  {
   "cell_type": "markdown",
   "id": "ebae188d",
   "metadata": {},
   "source": [
    "(use code above with following replacements:)"
   ]
  },
  {
   "cell_type": "code",
   "execution_count": null,
   "id": "62e426c2",
   "metadata": {},
   "outputs": [],
   "source": [
    "#calculate portfolio CAGR (based on weights)\n",
    "def port_ret(weights):\n",
    "    simple_ret = returns.add(1).cumprod().dot(weights.T).pct_change()\n",
    "    log_returns = np.log(simple_ret + 1)\n",
    "    cagr = np.exp(log_returns.mean() * 252) - 1\n",
    "    return cagr * (-1)"
   ]
  },
  {
   "cell_type": "code",
   "execution_count": null,
   "id": "10ba18a3",
   "metadata": {},
   "outputs": [],
   "source": [
    "# Maximum Return Portfolio\n",
    "opts = sco.minimize(port_ret, eweigths, method = \"SLSQP\", bounds = bnds, constraints= cons)"
   ]
  },
  {
   "cell_type": "code",
   "execution_count": null,
   "id": "4e7a9e55",
   "metadata": {},
   "outputs": [],
   "source": [
    "#cagr of the optimal portfolio\n",
    "cagr_opt = -port_ret(optimal_weights)\n",
    "cagr_opt"
   ]
  },
  {
   "cell_type": "code",
   "execution_count": null,
   "id": "f4d15804",
   "metadata": {},
   "outputs": [],
   "source": []
  },
  {
   "cell_type": "markdown",
   "id": "13cfbafd",
   "metadata": {},
   "source": [
    "## The Efficient Frontier"
   ]
  },
  {
   "cell_type": "markdown",
   "id": "e9fc6178",
   "metadata": {},
   "source": [
    "__Idea: Find for each return level the portfolio with the lowest volatility.__"
   ]
  },
  {
   "cell_type": "code",
   "execution_count": null,
   "id": "b3998328",
   "metadata": {},
   "outputs": [],
   "source": [
    "returns"
   ]
  },
  {
   "cell_type": "code",
   "execution_count": null,
   "id": "c445ab91",
   "metadata": {},
   "outputs": [],
   "source": [
    "#calculate portfolio CAGR (based on weights)\n",
    "def port_ret(weights):\n",
    "    simple_ret = returns.add(1).cumprod().dot(weights.T).pct_change()\n",
    "    log_returns = np.log(simple_ret + 1)\n",
    "    cagr = np.exp(log_returns.mean() * 252) - 1\n",
    "    return cagr"
   ]
  },
  {
   "cell_type": "code",
   "execution_count": null,
   "id": "314ff549",
   "metadata": {},
   "outputs": [],
   "source": [
    "#calculate annualized portfolio volatility (based on weights)\n",
    "def port_vol(weights):\n",
    "    simple_ret = returns.add(1).cumprod().dot(weights.T).pct_change()\n",
    "    return simple_ret.std() * np.sqrt(252)"
   ]
  },
  {
   "cell_type": "code",
   "execution_count": null,
   "id": "e418ca1a",
   "metadata": {},
   "outputs": [],
   "source": [
    "noa = len(returns.columns)\n",
    "noa"
   ]
  },
  {
   "cell_type": "code",
   "execution_count": null,
   "id": "7c6ed7e8",
   "metadata": {},
   "outputs": [],
   "source": [
    "#equal weights (starting point of optimization)\n",
    "eweigths = np.full(noa, 1/noa)\n",
    "eweigths"
   ]
  },
  {
   "cell_type": "code",
   "execution_count": null,
   "id": "95b5c76c",
   "metadata": {},
   "outputs": [],
   "source": [
    "summary"
   ]
  },
  {
   "cell_type": "code",
   "execution_count": null,
   "id": "8c662a4d",
   "metadata": {},
   "outputs": [],
   "source": [
    "tcagrs = np.linspace(summary.CAGR.min(), summary.CAGR.max(), 100)\n",
    "tcagrs # evenly spaced target returns between min and max"
   ]
  },
  {
   "cell_type": "code",
   "execution_count": null,
   "id": "b633c861",
   "metadata": {},
   "outputs": [],
   "source": [
    "# portfolio return == tcagr\n",
    "cons = ({\"type\": \"eq\", \"fun\": lambda x: port_ret(x) - tcagr},\n",
    "       {\"type\": \"eq\", \"fun\": lambda x: np.sum(x) - 1})"
   ]
  },
  {
   "cell_type": "code",
   "execution_count": null,
   "id": "1359cee6",
   "metadata": {},
   "outputs": [],
   "source": [
    "bnds =  tuple((0, 1) for x in range(noa))\n",
    "bnds"
   ]
  },
  {
   "cell_type": "code",
   "execution_count": null,
   "id": "a3104d69",
   "metadata": {},
   "outputs": [],
   "source": [
    "vols = []"
   ]
  },
  {
   "cell_type": "code",
   "execution_count": null,
   "id": "eb2bdb9d",
   "metadata": {},
   "outputs": [],
   "source": [
    "#for each target return, find the portfolio with the lowest volatility\n",
    "for tcagr in tcagrs:\n",
    "    res = sco.minimize(port_vol, eweigths, method = \"SLSQP\", bounds = bnds, constraints = cons)\n",
    "    vols.append(res[\"fun\"])\n",
    "vols = np.array(vols)"
   ]
  },
  {
   "cell_type": "code",
   "execution_count": null,
   "id": "03ad5330",
   "metadata": {},
   "outputs": [],
   "source": [
    "vols"
   ]
  },
  {
   "cell_type": "code",
   "execution_count": null,
   "id": "39ad63eb",
   "metadata": {},
   "outputs": [],
   "source": [
    "plt.figure(figsize = (15, 8))\n",
    "plt.scatter(port_summary.loc[:, \"ann. Risk\"], port_summary.loc[:, \"CAGR\"], s= 20, \n",
    "            c = port_summary.loc[:, \"RaR\"], cmap = \"coolwarm\", vmin = vmin, vmax = vmax, alpha = 0.66)\n",
    "plt.colorbar()\n",
    "plt.scatter(summary.loc[:, \"ann. Risk\"], summary.loc[:, \"CAGR\"],s= 50, marker = \"D\", c = \"black\")\n",
    "for i in summary.index:\n",
    "    plt.annotate(i, xy=(summary.loc[i, \"ann. Risk\"]+0.01, summary.loc[i, \"CAGR\"]+0.01), size = 15)\n",
    "plt.plot(vols, tcagrs) # efficient frontier\n",
    "plt.xlabel(\"ann. Risk (std)\", fontsize = 15)\n",
    "plt.ylabel(\"CAGR\", fontsize = 15)\n",
    "plt.title(\"The Efficient Frontier\", fontsize = 20)\n",
    "plt.show()"
   ]
  },
  {
   "cell_type": "code",
   "execution_count": null,
   "id": "0c1f280a",
   "metadata": {},
   "outputs": [],
   "source": []
  }
 ],
 "metadata": {
  "kernelspec": {
   "display_name": "Python 3 (ipykernel)",
   "language": "python",
   "name": "python3"
  },
  "language_info": {
   "codemirror_mode": {
    "name": "ipython",
    "version": 3
   },
   "file_extension": ".py",
   "mimetype": "text/x-python",
   "name": "python",
   "nbconvert_exporter": "python",
   "pygments_lexer": "ipython3",
   "version": "3.9.13"
  }
 },
 "nbformat": 4,
 "nbformat_minor": 5
}

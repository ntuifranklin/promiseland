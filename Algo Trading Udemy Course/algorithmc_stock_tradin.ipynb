{
 "cells": [
  {
   "cell_type": "code",
   "execution_count": 12,
   "id": "13b8731e-72bf-45dc-aaf6-a49bad1373a4",
   "metadata": {},
   "outputs": [
    {
     "name": "stdout",
     "output_type": "stream",
     "text": [
      "Requirement already satisfied: yfinance in /opt/conda/lib/python3.9/site-packages (0.2.16)\n",
      "Requirement already satisfied: cryptography>=3.3.2 in /opt/conda/lib/python3.9/site-packages (from yfinance) (36.0.1)\n",
      "Requirement already satisfied: pandas>=1.3.0 in /opt/conda/lib/python3.9/site-packages (from yfinance) (1.4.0)\n",
      "Requirement already satisfied: pytz>=2022.5 in /opt/conda/lib/python3.9/site-packages (from yfinance) (2023.3)\n",
      "Requirement already satisfied: beautifulsoup4>=4.11.1 in /opt/conda/lib/python3.9/site-packages (from yfinance) (4.12.2)\n",
      "Requirement already satisfied: requests>=2.26 in /opt/conda/lib/python3.9/site-packages (from yfinance) (2.27.1)\n",
      "Requirement already satisfied: numpy>=1.16.5 in /opt/conda/lib/python3.9/site-packages (from yfinance) (1.21.5)\n",
      "Requirement already satisfied: lxml>=4.9.1 in /opt/conda/lib/python3.9/site-packages (from yfinance) (4.9.2)\n",
      "Requirement already satisfied: html5lib>=1.1 in /opt/conda/lib/python3.9/site-packages (from yfinance) (1.1)\n",
      "Requirement already satisfied: multitasking>=0.0.7 in /opt/conda/lib/python3.9/site-packages (from yfinance) (0.0.11)\n",
      "Requirement already satisfied: frozendict>=2.3.4 in /opt/conda/lib/python3.9/site-packages (from yfinance) (2.3.7)\n",
      "Requirement already satisfied: appdirs>=1.4.4 in /opt/conda/lib/python3.9/site-packages (from yfinance) (1.4.4)\n",
      "Requirement already satisfied: soupsieve>1.2 in /opt/conda/lib/python3.9/site-packages (from beautifulsoup4>=4.11.1->yfinance) (2.3.1)\n",
      "Requirement already satisfied: cffi>=1.12 in /opt/conda/lib/python3.9/site-packages (from cryptography>=3.3.2->yfinance) (1.15.0)\n",
      "Requirement already satisfied: webencodings in /opt/conda/lib/python3.9/site-packages (from html5lib>=1.1->yfinance) (0.5.1)\n",
      "Requirement already satisfied: six>=1.9 in /opt/conda/lib/python3.9/site-packages (from html5lib>=1.1->yfinance) (1.16.0)\n",
      "Requirement already satisfied: python-dateutil>=2.8.1 in /opt/conda/lib/python3.9/site-packages (from pandas>=1.3.0->yfinance) (2.8.2)\n",
      "Requirement already satisfied: charset-normalizer~=2.0.0 in /opt/conda/lib/python3.9/site-packages (from requests>=2.26->yfinance) (2.0.10)\n",
      "Requirement already satisfied: idna<4,>=2.5 in /opt/conda/lib/python3.9/site-packages (from requests>=2.26->yfinance) (3.3)\n",
      "Requirement already satisfied: urllib3<1.27,>=1.21.1 in /opt/conda/lib/python3.9/site-packages (from requests>=2.26->yfinance) (1.26.8)\n",
      "Requirement already satisfied: certifi>=2017.4.17 in /opt/conda/lib/python3.9/site-packages (from requests>=2.26->yfinance) (2021.10.8)\n",
      "Requirement already satisfied: pycparser in /opt/conda/lib/python3.9/site-packages (from cffi>=1.12->cryptography>=3.3.2->yfinance) (2.21)\n",
      "Note: you may need to restart the kernel to use updated packages.\n"
     ]
    }
   ],
   "source": [
    "pip install yfinance"
   ]
  },
  {
   "cell_type": "code",
   "execution_count": 14,
   "id": "0f42d6dd-7682-4008-8f30-cff7e316cd91",
   "metadata": {},
   "outputs": [],
   "source": [
    "import yfinance as yf\n",
    "import pandas as pd\n",
    "import matplotlib.pyplot as plt\n",
    "plt.style.use('seaborn')"
   ]
  },
  {
   "cell_type": "code",
   "execution_count": 15,
   "id": "70764a48-b0f2-4382-9e42-26a202d23f43",
   "metadata": {},
   "outputs": [],
   "source": [
    "symbol = 'AAPL' "
   ]
  },
  {
   "cell_type": "code",
   "execution_count": 20,
   "id": "3e87c58a-f7c7-42a2-b7c2-a5db0ae302c5",
   "metadata": {},
   "outputs": [
    {
     "name": "stdout",
     "output_type": "stream",
     "text": [
      "[*********************100%***********************]  1 of 1 completed\n"
     ]
    }
   ],
   "source": [
    "df = yf.download(tickers=symbol)"
   ]
  },
  {
   "cell_type": "code",
   "execution_count": 18,
   "id": "bb53ceba-c129-4354-9976-cd1018596098",
   "metadata": {},
   "outputs": [
    {
     "data": {
      "text/plain": [
       "DatetimeIndex(['1980-12-12', '1980-12-15', '1980-12-16', '1980-12-17',\n",
       "               '1980-12-18', '1980-12-19', '1980-12-22', '1980-12-23',\n",
       "               '1980-12-24', '1980-12-26',\n",
       "               ...\n",
       "               '2023-03-27', '2023-03-28', '2023-03-29', '2023-03-30',\n",
       "               '2023-03-31', '2023-04-03', '2023-04-04', '2023-04-05',\n",
       "               '2023-04-06', '2023-04-10'],\n",
       "              dtype='datetime64[ns]', name='Date', length=10670, freq=None)"
      ]
     },
     "execution_count": 18,
     "metadata": {},
     "output_type": "execute_result"
    }
   ],
   "source": [
    "df.index"
   ]
  },
  {
   "cell_type": "code",
   "execution_count": 19,
   "id": "874754f3-29b6-4b4a-ad27-81ce9569dd02",
   "metadata": {},
   "outputs": [
    {
     "name": "stdout",
     "output_type": "stream",
     "text": [
      "<class 'pandas.core.frame.DataFrame'>\n",
      "DatetimeIndex: 10670 entries, 1980-12-12 to 2023-04-10\n",
      "Data columns (total 6 columns):\n",
      " #   Column     Non-Null Count  Dtype  \n",
      "---  ------     --------------  -----  \n",
      " 0   Open       10670 non-null  float64\n",
      " 1   High       10670 non-null  float64\n",
      " 2   Low        10670 non-null  float64\n",
      " 3   Close      10670 non-null  float64\n",
      " 4   Adj Close  10670 non-null  float64\n",
      " 5   Volume     10670 non-null  int64  \n",
      "dtypes: float64(5), int64(1)\n",
      "memory usage: 583.5 KB\n"
     ]
    }
   ],
   "source": [
    "df.info()"
   ]
  },
  {
   "cell_type": "code",
   "execution_count": null,
   "id": "5eef4e2d-32ea-4829-a0dd-f031cc794ce1",
   "metadata": {},
   "outputs": [],
   "source": []
  }
 ],
 "metadata": {
  "kernelspec": {
   "display_name": "Python 3 (ipykernel)",
   "language": "python",
   "name": "python3"
  },
  "language_info": {
   "codemirror_mode": {
    "name": "ipython",
    "version": 3
   },
   "file_extension": ".py",
   "mimetype": "text/x-python",
   "name": "python",
   "nbconvert_exporter": "python",
   "pygments_lexer": "ipython3",
   "version": "3.9.7"
  }
 },
 "nbformat": 4,
 "nbformat_minor": 5
}
